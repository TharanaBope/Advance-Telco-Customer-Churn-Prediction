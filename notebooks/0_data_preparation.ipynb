{
 "cells": [
  {
   "cell_type": "code",
   "execution_count": 2,
   "metadata": {},
   "outputs": [
    {
     "name": "stdout",
     "output_type": "stream",
     "text": [
      "Note: you may need to restart the kernel to use updated packages.\n"
     ]
    },
    {
     "name": "stderr",
     "output_type": "stream",
     "text": [
      "ERROR: Could not open requirements file: [Errno 2] No such file or directory: 'requirements.txt'\n"
     ]
    }
   ],
   "source": [
    "%pip install -r requirements.txt"
   ]
  },
  {
   "cell_type": "markdown",
   "metadata": {},
   "source": [
    "### 1. Import Dependencies"
   ]
  },
  {
   "cell_type": "code",
   "execution_count": 3,
   "metadata": {},
   "outputs": [],
   "source": [
    "import os\n",
    "import numpy as np\n",
    "import pandas as pd\n",
    "import matplotlib.pyplot as plt\n",
    "import seaborn as sns\n",
    "from datetime import datetime\n",
    "import warnings\n",
    "warnings.filterwarnings('ignore')\n",
    "\n",
    "# Set display options\n",
    "pd.set_option('display.max_columns', None)\n",
    "pd.set_option('display.max_rows', 100)"
   ]
  },
  {
   "cell_type": "code",
   "execution_count": 4,
   "metadata": {},
   "outputs": [
    {
     "data": {
      "text/plain": [
       "'d:\\\\MY\\\\Personal Projects\\\\Zuu-Crew Projects\\\\Building Production Ready ML Systems\\\\Advance Telco Customer Churn Prediction\\\\notebooks'"
      ]
     },
     "execution_count": 4,
     "metadata": {},
     "output_type": "execute_result"
    }
   ],
   "source": [
    "os.getcwd()"
   ]
  },
  {
   "cell_type": "markdown",
   "metadata": {},
   "source": [
    "### 2. Load and Inspect Raw Data"
   ]
  },
  {
   "cell_type": "code",
   "execution_count": 7,
   "metadata": {},
   "outputs": [
    {
     "data": {
      "text/html": [
       "<div>\n",
       "<style scoped>\n",
       "    .dataframe tbody tr th:only-of-type {\n",
       "        vertical-align: middle;\n",
       "    }\n",
       "\n",
       "    .dataframe tbody tr th {\n",
       "        vertical-align: top;\n",
       "    }\n",
       "\n",
       "    .dataframe thead th {\n",
       "        text-align: right;\n",
       "    }\n",
       "</style>\n",
       "<table border=\"1\" class=\"dataframe\">\n",
       "  <thead>\n",
       "    <tr style=\"text-align: right;\">\n",
       "      <th></th>\n",
       "      <th>customerID</th>\n",
       "      <th>gender</th>\n",
       "      <th>SeniorCitizen</th>\n",
       "      <th>Partner</th>\n",
       "      <th>Dependents</th>\n",
       "      <th>tenure</th>\n",
       "      <th>PhoneService</th>\n",
       "      <th>MultipleLines</th>\n",
       "      <th>InternetService</th>\n",
       "      <th>OnlineSecurity</th>\n",
       "      <th>OnlineBackup</th>\n",
       "      <th>DeviceProtection</th>\n",
       "      <th>TechSupport</th>\n",
       "      <th>StreamingTV</th>\n",
       "      <th>StreamingMovies</th>\n",
       "      <th>Contract</th>\n",
       "      <th>PaperlessBilling</th>\n",
       "      <th>PaymentMethod</th>\n",
       "      <th>MonthlyCharges</th>\n",
       "      <th>TotalCharges</th>\n",
       "      <th>Churn</th>\n",
       "    </tr>\n",
       "  </thead>\n",
       "  <tbody>\n",
       "    <tr>\n",
       "      <th>0</th>\n",
       "      <td>7590-VHVEG</td>\n",
       "      <td>Female</td>\n",
       "      <td>0</td>\n",
       "      <td>Yes</td>\n",
       "      <td>No</td>\n",
       "      <td>1</td>\n",
       "      <td>No</td>\n",
       "      <td>No phone service</td>\n",
       "      <td>DSL</td>\n",
       "      <td>No</td>\n",
       "      <td>Yes</td>\n",
       "      <td>No</td>\n",
       "      <td>No</td>\n",
       "      <td>No</td>\n",
       "      <td>No</td>\n",
       "      <td>Month-to-month</td>\n",
       "      <td>Yes</td>\n",
       "      <td>Electronic check</td>\n",
       "      <td>29.85</td>\n",
       "      <td>29.85</td>\n",
       "      <td>No</td>\n",
       "    </tr>\n",
       "    <tr>\n",
       "      <th>1</th>\n",
       "      <td>5575-GNVDE</td>\n",
       "      <td>Male</td>\n",
       "      <td>0</td>\n",
       "      <td>No</td>\n",
       "      <td>No</td>\n",
       "      <td>34</td>\n",
       "      <td>Yes</td>\n",
       "      <td>No</td>\n",
       "      <td>DSL</td>\n",
       "      <td>Yes</td>\n",
       "      <td>No</td>\n",
       "      <td>Yes</td>\n",
       "      <td>No</td>\n",
       "      <td>No</td>\n",
       "      <td>No</td>\n",
       "      <td>One year</td>\n",
       "      <td>No</td>\n",
       "      <td>Mailed check</td>\n",
       "      <td>56.95</td>\n",
       "      <td>1889.5</td>\n",
       "      <td>No</td>\n",
       "    </tr>\n",
       "    <tr>\n",
       "      <th>2</th>\n",
       "      <td>3668-QPYBK</td>\n",
       "      <td>Male</td>\n",
       "      <td>0</td>\n",
       "      <td>No</td>\n",
       "      <td>No</td>\n",
       "      <td>2</td>\n",
       "      <td>Yes</td>\n",
       "      <td>No</td>\n",
       "      <td>DSL</td>\n",
       "      <td>Yes</td>\n",
       "      <td>Yes</td>\n",
       "      <td>No</td>\n",
       "      <td>No</td>\n",
       "      <td>No</td>\n",
       "      <td>No</td>\n",
       "      <td>Month-to-month</td>\n",
       "      <td>Yes</td>\n",
       "      <td>Mailed check</td>\n",
       "      <td>53.85</td>\n",
       "      <td>108.15</td>\n",
       "      <td>Yes</td>\n",
       "    </tr>\n",
       "    <tr>\n",
       "      <th>3</th>\n",
       "      <td>7795-CFOCW</td>\n",
       "      <td>Male</td>\n",
       "      <td>0</td>\n",
       "      <td>No</td>\n",
       "      <td>No</td>\n",
       "      <td>45</td>\n",
       "      <td>No</td>\n",
       "      <td>No phone service</td>\n",
       "      <td>DSL</td>\n",
       "      <td>Yes</td>\n",
       "      <td>No</td>\n",
       "      <td>Yes</td>\n",
       "      <td>Yes</td>\n",
       "      <td>No</td>\n",
       "      <td>No</td>\n",
       "      <td>One year</td>\n",
       "      <td>No</td>\n",
       "      <td>Bank transfer (automatic)</td>\n",
       "      <td>42.30</td>\n",
       "      <td>1840.75</td>\n",
       "      <td>No</td>\n",
       "    </tr>\n",
       "    <tr>\n",
       "      <th>4</th>\n",
       "      <td>9237-HQITU</td>\n",
       "      <td>Female</td>\n",
       "      <td>0</td>\n",
       "      <td>No</td>\n",
       "      <td>No</td>\n",
       "      <td>2</td>\n",
       "      <td>Yes</td>\n",
       "      <td>No</td>\n",
       "      <td>Fiber optic</td>\n",
       "      <td>No</td>\n",
       "      <td>No</td>\n",
       "      <td>No</td>\n",
       "      <td>No</td>\n",
       "      <td>No</td>\n",
       "      <td>No</td>\n",
       "      <td>Month-to-month</td>\n",
       "      <td>Yes</td>\n",
       "      <td>Electronic check</td>\n",
       "      <td>70.70</td>\n",
       "      <td>151.65</td>\n",
       "      <td>Yes</td>\n",
       "    </tr>\n",
       "  </tbody>\n",
       "</table>\n",
       "</div>"
      ],
      "text/plain": [
       "   customerID  gender  SeniorCitizen Partner Dependents  tenure PhoneService  \\\n",
       "0  7590-VHVEG  Female              0     Yes         No       1           No   \n",
       "1  5575-GNVDE    Male              0      No         No      34          Yes   \n",
       "2  3668-QPYBK    Male              0      No         No       2          Yes   \n",
       "3  7795-CFOCW    Male              0      No         No      45           No   \n",
       "4  9237-HQITU  Female              0      No         No       2          Yes   \n",
       "\n",
       "      MultipleLines InternetService OnlineSecurity OnlineBackup  \\\n",
       "0  No phone service             DSL             No          Yes   \n",
       "1                No             DSL            Yes           No   \n",
       "2                No             DSL            Yes          Yes   \n",
       "3  No phone service             DSL            Yes           No   \n",
       "4                No     Fiber optic             No           No   \n",
       "\n",
       "  DeviceProtection TechSupport StreamingTV StreamingMovies        Contract  \\\n",
       "0               No          No          No              No  Month-to-month   \n",
       "1              Yes          No          No              No        One year   \n",
       "2               No          No          No              No  Month-to-month   \n",
       "3              Yes         Yes          No              No        One year   \n",
       "4               No          No          No              No  Month-to-month   \n",
       "\n",
       "  PaperlessBilling              PaymentMethod  MonthlyCharges TotalCharges  \\\n",
       "0              Yes           Electronic check           29.85        29.85   \n",
       "1               No               Mailed check           56.95       1889.5   \n",
       "2              Yes               Mailed check           53.85       108.15   \n",
       "3               No  Bank transfer (automatic)           42.30      1840.75   \n",
       "4              Yes           Electronic check           70.70       151.65   \n",
       "\n",
       "  Churn  \n",
       "0    No  \n",
       "1    No  \n",
       "2   Yes  \n",
       "3    No  \n",
       "4   Yes  "
      ]
     },
     "execution_count": 7,
     "metadata": {},
     "output_type": "execute_result"
    }
   ],
   "source": [
    "# Load the Telco Customer Churn dataset\n",
    "df = pd.read_csv(r'D:\\MY\\Personal Projects\\Zuu-Crew Projects\\Building Production Ready ML Systems\\Advance Telco Customer Churn Prediction\\data\\raw\\WA_Fn-UseC_-Telco-Customer-Churn.csv')\n",
    "df.head()"
   ]
  },
  {
   "cell_type": "code",
   "execution_count": 8,
   "metadata": {},
   "outputs": [
    {
     "name": "stdout",
     "output_type": "stream",
     "text": [
      "Dataset shape: (7043, 21)\n",
      "Number of customers: 7,043\n",
      "Number of features: 21\n"
     ]
    }
   ],
   "source": [
    "# Basic dataset information\n",
    "print(f\"Dataset shape: {df.shape}\")\n",
    "print(f\"Number of customers: {df.shape[0]:,}\")\n",
    "print(f\"Number of features: {df.shape[1]}\")"
   ]
  },
  {
   "cell_type": "code",
   "execution_count": 9,
   "metadata": {},
   "outputs": [
    {
     "name": "stdout",
     "output_type": "stream",
     "text": [
      "<class 'pandas.core.frame.DataFrame'>\n",
      "RangeIndex: 7043 entries, 0 to 7042\n",
      "Data columns (total 21 columns):\n",
      " #   Column            Non-Null Count  Dtype  \n",
      "---  ------            --------------  -----  \n",
      " 0   customerID        7043 non-null   object \n",
      " 1   gender            7043 non-null   object \n",
      " 2   SeniorCitizen     7043 non-null   int64  \n",
      " 3   Partner           7043 non-null   object \n",
      " 4   Dependents        7043 non-null   object \n",
      " 5   tenure            7043 non-null   int64  \n",
      " 6   PhoneService      7043 non-null   object \n",
      " 7   MultipleLines     7043 non-null   object \n",
      " 8   InternetService   7043 non-null   object \n",
      " 9   OnlineSecurity    7043 non-null   object \n",
      " 10  OnlineBackup      7043 non-null   object \n",
      " 11  DeviceProtection  7043 non-null   object \n",
      " 12  TechSupport       7043 non-null   object \n",
      " 13  StreamingTV       7043 non-null   object \n",
      " 14  StreamingMovies   7043 non-null   object \n",
      " 15  Contract          7043 non-null   object \n",
      " 16  PaperlessBilling  7043 non-null   object \n",
      " 17  PaymentMethod     7043 non-null   object \n",
      " 18  MonthlyCharges    7043 non-null   float64\n",
      " 19  TotalCharges      7043 non-null   object \n",
      " 20  Churn             7043 non-null   object \n",
      "dtypes: float64(1), int64(2), object(18)\n",
      "memory usage: 1.1+ MB\n"
     ]
    }
   ],
   "source": [
    "# Data types and basic info\n",
    "df.info()"
   ]
  },
  {
   "cell_type": "code",
   "execution_count": 10,
   "metadata": {},
   "outputs": [
    {
     "name": "stdout",
     "output_type": "stream",
     "text": [
      "Columns in the dataset:\n",
      " 1. customerID\n",
      " 2. gender\n",
      " 3. SeniorCitizen\n",
      " 4. Partner\n",
      " 5. Dependents\n",
      " 6. tenure\n",
      " 7. PhoneService\n",
      " 8. MultipleLines\n",
      " 9. InternetService\n",
      "10. OnlineSecurity\n",
      "11. OnlineBackup\n",
      "12. DeviceProtection\n",
      "13. TechSupport\n",
      "14. StreamingTV\n",
      "15. StreamingMovies\n",
      "16. Contract\n",
      "17. PaperlessBilling\n",
      "18. PaymentMethod\n",
      "19. MonthlyCharges\n",
      "20. TotalCharges\n",
      "21. Churn\n"
     ]
    }
   ],
   "source": [
    "# Column names and structure\n",
    "print(\"Columns in the dataset:\")\n",
    "for i, col in enumerate(df.columns):\n",
    "    print(f\"{i+1:2d}. {col}\")"
   ]
  },
  {
   "cell_type": "markdown",
   "metadata": {},
   "source": [
    "### 3. Data Quality Assessment"
   ]
  },
  {
   "cell_type": "code",
   "execution_count": 11,
   "metadata": {},
   "outputs": [
    {
     "name": "stdout",
     "output_type": "stream",
     "text": [
      "No missing values found in the dataset!\n"
     ]
    }
   ],
   "source": [
    "# Check for missing values\n",
    "missing_values = df.isnull().sum()\n",
    "missing_percentage = (missing_values / len(df)) * 100\n",
    "\n",
    "missing_df = pd.DataFrame({\n",
    "    'Missing Count': missing_values,\n",
    "    'Missing Percentage': missing_percentage\n",
    "})\n",
    "missing_df = missing_df[missing_df['Missing Count'] > 0].sort_values('Missing Count', ascending=False)\n",
    "\n",
    "if len(missing_df) > 0:\n",
    "    print(\"Missing Values Summary:\")\n",
    "    print(missing_df)\n",
    "else:\n",
    "    print(\"No missing values found in the dataset!\")"
   ]
  },
  {
   "cell_type": "code",
   "execution_count": 12,
   "metadata": {},
   "outputs": [
    {
     "name": "stdout",
     "output_type": "stream",
     "text": [
      "Number of duplicate rows: 0\n"
     ]
    }
   ],
   "source": [
    "# Check for duplicate rows\n",
    "duplicates = df.duplicated().sum()\n",
    "print(f\"Number of duplicate rows: {duplicates}\")\n",
    "\n",
    "if duplicates > 0:\n",
    "    print(f\"Percentage of duplicates: {(duplicates/len(df))*100:.2f}%\")"
   ]
  },
  {
   "cell_type": "code",
   "execution_count": 13,
   "metadata": {},
   "outputs": [
    {
     "name": "stdout",
     "output_type": "stream",
     "text": [
      "Data types:\n",
      "customerID           object\n",
      "gender               object\n",
      "SeniorCitizen         int64\n",
      "Partner              object\n",
      "Dependents           object\n",
      "tenure                int64\n",
      "PhoneService         object\n",
      "MultipleLines        object\n",
      "InternetService      object\n",
      "OnlineSecurity       object\n",
      "OnlineBackup         object\n",
      "DeviceProtection     object\n",
      "TechSupport          object\n",
      "StreamingTV          object\n",
      "StreamingMovies      object\n",
      "Contract             object\n",
      "PaperlessBilling     object\n",
      "PaymentMethod        object\n",
      "MonthlyCharges      float64\n",
      "TotalCharges         object\n",
      "Churn                object\n",
      "dtype: object\n",
      "\n",
      "TotalCharges is object type - checking for non-numeric values\n",
      "Non-numeric TotalCharges values: 11\n",
      "Sample non-numeric values: [' ']\n"
     ]
    }
   ],
   "source": [
    "# Check for data type inconsistencies (especially TotalCharges)\n",
    "print(\"Data types:\")\n",
    "print(df.dtypes)\n",
    "\n",
    "# TotalCharges should be numeric but might be object type\n",
    "if df['TotalCharges'].dtype == 'object':\n",
    "    print(\"\\nTotalCharges is object type - checking for non-numeric values\")\n",
    "    non_numeric = df[pd.to_numeric(df['TotalCharges'], errors='coerce').isnull()]['TotalCharges']\n",
    "    print(f\"Non-numeric TotalCharges values: {len(non_numeric)}\")\n",
    "    if len(non_numeric) > 0:\n",
    "        print(f\"Sample non-numeric values: {non_numeric.unique()[:5]}\")"
   ]
  },
  {
   "cell_type": "markdown",
   "metadata": {},
   "source": [
    "### 4. Target Variable Analysis"
   ]
  },
  {
   "cell_type": "code",
   "execution_count": 14,
   "metadata": {},
   "outputs": [
    {
     "name": "stdout",
     "output_type": "stream",
     "text": [
      "Churn Distribution:\n",
      "No:  5,174 customers (73.5%)\n",
      "Yes: 1,869 customers (26.5%)\n",
      "\n",
      "Class imbalance ratio (No:Yes): 2.77:1\n"
     ]
    }
   ],
   "source": [
    "# Analyze target variable (Churn)\n",
    "churn_counts = df['Churn'].value_counts()\n",
    "churn_percentage = df['Churn'].value_counts(normalize=True) * 100\n",
    "\n",
    "print(\"Churn Distribution:\")\n",
    "print(f\"No:  {churn_counts['No']:,} customers ({churn_percentage['No']:.1f}%)\")\n",
    "print(f\"Yes: {churn_counts['Yes']:,} customers ({churn_percentage['Yes']:.1f}%)\")\n",
    "\n",
    "# Class imbalance ratio\n",
    "imbalance_ratio = churn_counts['No'] / churn_counts['Yes']\n",
    "print(f\"\\nClass imbalance ratio (No:Yes): {imbalance_ratio:.2f}:1\")"
   ]
  },
  {
   "cell_type": "code",
   "execution_count": 15,
   "metadata": {},
   "outputs": [
    {
     "data": {
      "image/png": "[encoded data removed]",
      "text/plain": [
       "<Figure size 1000x500 with 2 Axes>"
      ]
     },
     "metadata": {},
     "output_type": "display_data"
    }
   ],
   "source": [
    "# Visualize target variable distribution\n",
    "plt.figure(figsize=(10, 5))\n",
    "\n",
    "plt.subplot(1, 2, 1)\n",
    "churn_counts.plot(kind='bar', color=['skyblue', 'salmon'])\n",
    "plt.title('Churn Distribution (Counts)')\n",
    "plt.xlabel('Churn')\n",
    "plt.ylabel('Number of Customers')\n",
    "plt.xticks(rotation=0)\n",
    "\n",
    "plt.subplot(1, 2, 2)\n",
    "plt.pie(churn_counts.values, labels=churn_counts.index, autopct='%1.1f%%', \n",
    "        colors=['skyblue', 'salmon'], startangle=90)\n",
    "plt.title('Churn Distribution (Percentage)')\n",
    "\n",
    "plt.tight_layout()\n",
    "plt.show()"
   ]
  },
  {
   "cell_type": "markdown",
   "metadata": {},
   "source": [
    "### 5. Feature Categories Analysis"
   ]
  },
  {
   "cell_type": "code",
   "execution_count": 16,
   "metadata": {},
   "outputs": [
    {
     "name": "stdout",
     "output_type": "stream",
     "text": [
      "Feature Categories:\n",
      "Demographic features (4): ['gender', 'SeniorCitizen', 'Partner', 'Dependents']\n",
      "Account features (4): ['tenure', 'Contract', 'PaperlessBilling', 'PaymentMethod']\n",
      "Service features (9): ['PhoneService', 'MultipleLines', 'InternetService', 'OnlineSecurity', 'OnlineBackup', 'DeviceProtection', 'TechSupport', 'StreamingTV', 'StreamingMovies']\n",
      "Financial features (2): ['MonthlyCharges', 'TotalCharges']\n"
     ]
    }
   ],
   "source": [
    "# Categorize features based on Telco domain knowledge\n",
    "demographic_features = ['gender', 'SeniorCitizen', 'Partner', 'Dependents']\n",
    "account_features = ['tenure', 'Contract', 'PaperlessBilling', 'PaymentMethod']\n",
    "service_features = ['PhoneService', 'MultipleLines', 'InternetService', \n",
    "                   'OnlineSecurity', 'OnlineBackup', 'DeviceProtection', \n",
    "                   'TechSupport', 'StreamingTV', 'StreamingMovies']\n",
    "financial_features = ['MonthlyCharges', 'TotalCharges']\n",
    "\n",
    "print(\"Feature Categories:\")\n",
    "print(f\"Demographic features ({len(demographic_features)}): {demographic_features}\")\n",
    "print(f\"Account features ({len(account_features)}): {account_features}\")\n",
    "print(f\"Service features ({len(service_features)}): {service_features}\")\n",
    "print(f\"Financial features ({len(financial_features)}): {financial_features}\")"
   ]
  },
  {
   "cell_type": "code",
   "execution_count": 17,
   "metadata": {},
   "outputs": [
    {
     "name": "stdout",
     "output_type": "stream",
     "text": [
      "Categorical features (17): ['customerID', 'gender', 'Partner', 'Dependents', 'PhoneService', 'MultipleLines', 'InternetService', 'OnlineSecurity', 'OnlineBackup', 'DeviceProtection', 'TechSupport', 'StreamingTV', 'StreamingMovies', 'Contract', 'PaperlessBilling', 'PaymentMethod', 'TotalCharges']\n",
      "Numerical features (3): ['SeniorCitizen', 'tenure', 'MonthlyCharges']\n"
     ]
    }
   ],
   "source": [
    "# Identify categorical and numerical features\n",
    "categorical_features = df.select_dtypes(include=['object']).columns.tolist()\n",
    "categorical_features.remove('Churn')  # Remove target variable\n",
    "\n",
    "numerical_features = df.select_dtypes(include=['int64', 'float64']).columns.tolist()\n",
    "\n",
    "print(f\"Categorical features ({len(categorical_features)}): {categorical_features}\")\n",
    "print(f\"Numerical features ({len(numerical_features)}): {numerical_features}\")"
   ]
  },
  {
   "cell_type": "markdown",
   "metadata": {},
   "source": [
    "### 6. Basic Statistical Summary"
   ]
  },
  {
   "cell_type": "code",
   "execution_count": 18,
   "metadata": {},
   "outputs": [
    {
     "name": "stdout",
     "output_type": "stream",
     "text": [
      "Statistical Summary - Numerical Features:\n"
     ]
    },
    {
     "data": {
      "text/html": [
       "<div>\n",
       "<style scoped>\n",
       "    .dataframe tbody tr th:only-of-type {\n",
       "        vertical-align: middle;\n",
       "    }\n",
       "\n",
       "    .dataframe tbody tr th {\n",
       "        vertical-align: top;\n",
       "    }\n",
       "\n",
       "    .dataframe thead th {\n",
       "        text-align: right;\n",
       "    }\n",
       "</style>\n",
       "<table border=\"1\" class=\"dataframe\">\n",
       "  <thead>\n",
       "    <tr style=\"text-align: right;\">\n",
       "      <th></th>\n",
       "      <th>SeniorCitizen</th>\n",
       "      <th>tenure</th>\n",
       "      <th>MonthlyCharges</th>\n",
       "    </tr>\n",
       "  </thead>\n",
       "  <tbody>\n",
       "    <tr>\n",
       "      <th>count</th>\n",
       "      <td>7043.000000</td>\n",
       "      <td>7043.000000</td>\n",
       "      <td>7043.000000</td>\n",
       "    </tr>\n",
       "    <tr>\n",
       "      <th>mean</th>\n",
       "      <td>0.162147</td>\n",
       "      <td>32.371149</td>\n",
       "      <td>64.761692</td>\n",
       "    </tr>\n",
       "    <tr>\n",
       "      <th>std</th>\n",
       "      <td>0.368612</td>\n",
       "      <td>24.559481</td>\n",
       "      <td>30.090047</td>\n",
       "    </tr>\n",
       "    <tr>\n",
       "      <th>min</th>\n",
       "      <td>0.000000</td>\n",
       "      <td>0.000000</td>\n",
       "      <td>18.250000</td>\n",
       "    </tr>\n",
       "    <tr>\n",
       "      <th>25%</th>\n",
       "      <td>0.000000</td>\n",
       "      <td>9.000000</td>\n",
       "      <td>35.500000</td>\n",
       "    </tr>\n",
       "    <tr>\n",
       "      <th>50%</th>\n",
       "      <td>0.000000</td>\n",
       "      <td>29.000000</td>\n",
       "      <td>70.350000</td>\n",
       "    </tr>\n",
       "    <tr>\n",
       "      <th>75%</th>\n",
       "      <td>0.000000</td>\n",
       "      <td>55.000000</td>\n",
       "      <td>89.850000</td>\n",
       "    </tr>\n",
       "    <tr>\n",
       "      <th>max</th>\n",
       "      <td>1.000000</td>\n",
       "      <td>72.000000</td>\n",
       "      <td>118.750000</td>\n",
       "    </tr>\n",
       "  </tbody>\n",
       "</table>\n",
       "</div>"
      ],
      "text/plain": [
       "       SeniorCitizen       tenure  MonthlyCharges\n",
       "count    7043.000000  7043.000000     7043.000000\n",
       "mean        0.162147    32.371149       64.761692\n",
       "std         0.368612    24.559481       30.090047\n",
       "min         0.000000     0.000000       18.250000\n",
       "25%         0.000000     9.000000       35.500000\n",
       "50%         0.000000    29.000000       70.350000\n",
       "75%         0.000000    55.000000       89.850000\n",
       "max         1.000000    72.000000      118.750000"
      ]
     },
     "execution_count": 18,
     "metadata": {},
     "output_type": "execute_result"
    }
   ],
   "source": [
    "# Statistical summary for numerical features\n",
    "print(\"Statistical Summary - Numerical Features:\")\n",
    "df[numerical_features].describe()"
   ]
  },
  {
   "cell_type": "code",
   "execution_count": 19,
   "metadata": {},
   "outputs": [
    {
     "name": "stdout",
     "output_type": "stream",
     "text": [
      "Categorical Features Summary:\n",
      "\n",
      "customerID:\n",
      "  Unique values: 7043\n",
      "  Sample values: ['7590-VHVEG' '5575-GNVDE' '3668-QPYBK' '7795-CFOCW' '9237-HQITU'\n",
      " '9305-CDSKC' '1452-KIOVK' '6713-OKOMC' '7892-POOKP' '6388-TABGU']\n",
      "\n",
      "gender:\n",
      "  Unique values: 2\n",
      "  Sample values: ['Female' 'Male']\n",
      "  Value counts:\n",
      "gender\n",
      "Male      3555\n",
      "Female    3488\n",
      "Name: count, dtype: int64\n",
      "\n",
      "Partner:\n",
      "  Unique values: 2\n",
      "  Sample values: ['Yes' 'No']\n",
      "  Value counts:\n",
      "Partner\n",
      "No     3641\n",
      "Yes    3402\n",
      "Name: count, dtype: int64\n",
      "\n",
      "Dependents:\n",
      "  Unique values: 2\n",
      "  Sample values: ['No' 'Yes']\n",
      "  Value counts:\n",
      "Dependents\n",
      "No     4933\n",
      "Yes    2110\n",
      "Name: count, dtype: int64\n",
      "\n",
      "PhoneService:\n",
      "  Unique values: 2\n",
      "  Sample values: ['No' 'Yes']\n",
      "  Value counts:\n",
      "PhoneService\n",
      "Yes    6361\n",
      "No      682\n",
      "Name: count, dtype: int64\n",
      "\n",
      "MultipleLines:\n",
      "  Unique values: 3\n",
      "  Sample values: ['No phone service' 'No' 'Yes']\n",
      "  Value counts:\n",
      "MultipleLines\n",
      "No                  3390\n",
      "Yes                 2971\n",
      "No phone service     682\n",
      "Name: count, dtype: int64\n",
      "\n",
      "InternetService:\n",
      "  Unique values: 3\n",
      "  Sample values: ['DSL' 'Fiber optic' 'No']\n",
      "  Value counts:\n",
      "InternetService\n",
      "Fiber optic    3096\n",
      "DSL            2421\n",
      "No             1526\n",
      "Name: count, dtype: int64\n",
      "\n",
      "OnlineSecurity:\n",
      "  Unique values: 3\n",
      "  Sample values: ['No' 'Yes' 'No internet service']\n",
      "  Value counts:\n",
      "OnlineSecurity\n",
      "No                     3498\n",
      "Yes                    2019\n",
      "No internet service    1526\n",
      "Name: count, dtype: int64\n",
      "\n",
      "OnlineBackup:\n",
      "  Unique values: 3\n",
      "  Sample values: ['Yes' 'No' 'No internet service']\n",
      "  Value counts:\n",
      "OnlineBackup\n",
      "No                     3088\n",
      "Yes                    2429\n",
      "No internet service    1526\n",
      "Name: count, dtype: int64\n",
      "\n",
      "DeviceProtection:\n",
      "  Unique values: 3\n",
      "  Sample values: ['No' 'Yes' 'No internet service']\n",
      "  Value counts:\n",
      "DeviceProtection\n",
      "No                     3095\n",
      "Yes                    2422\n",
      "No internet service    1526\n",
      "Name: count, dtype: int64\n",
      "\n",
      "TechSupport:\n",
      "  Unique values: 3\n",
      "  Sample values: ['No' 'Yes' 'No internet service']\n",
      "  Value counts:\n",
      "TechSupport\n",
      "No                     3473\n",
      "Yes                    2044\n",
      "No internet service    1526\n",
      "Name: count, dtype: int64\n",
      "\n",
      "StreamingTV:\n",
      "  Unique values: 3\n",
      "  Sample values: ['No' 'Yes' 'No internet service']\n",
      "  Value counts:\n",
      "StreamingTV\n",
      "No                     2810\n",
      "Yes                    2707\n",
      "No internet service    1526\n",
      "Name: count, dtype: int64\n",
      "\n",
      "StreamingMovies:\n",
      "  Unique values: 3\n",
      "  Sample values: ['No' 'Yes' 'No internet service']\n",
      "  Value counts:\n",
      "StreamingMovies\n",
      "No                     2785\n",
      "Yes                    2732\n",
      "No internet service    1526\n",
      "Name: count, dtype: int64\n",
      "\n",
      "Contract:\n",
      "  Unique values: 3\n",
      "  Sample values: ['Month-to-month' 'One year' 'Two year']\n",
      "  Value counts:\n",
      "Contract\n",
      "Month-to-month    3875\n",
      "Two year          1695\n",
      "One year          1473\n",
      "Name: count, dtype: int64\n",
      "\n",
      "PaperlessBilling:\n",
      "  Unique values: 2\n",
      "  Sample values: ['Yes' 'No']\n",
      "  Value counts:\n",
      "PaperlessBilling\n",
      "Yes    4171\n",
      "No     2872\n",
      "Name: count, dtype: int64\n",
      "\n",
      "PaymentMethod:\n",
      "  Unique values: 4\n",
      "  Sample values: ['Electronic check' 'Mailed check' 'Bank transfer (automatic)'\n",
      " 'Credit card (automatic)']\n",
      "  Value counts:\n",
      "PaymentMethod\n",
      "Electronic check             2365\n",
      "Mailed check                 1612\n",
      "Bank transfer (automatic)    1544\n",
      "Credit card (automatic)      1522\n",
      "Name: count, dtype: int64\n",
      "\n",
      "TotalCharges:\n",
      "  Unique values: 6531\n",
      "  Sample values: ['29.85' '1889.5' '108.15' '1840.75' '151.65' '820.5' '1949.4' '301.9'\n",
      " '3046.05' '3487.95']\n"
     ]
    }
   ],
   "source": [
    "# Summary for categorical features\n",
    "print(\"Categorical Features Summary:\")\n",
    "for feature in categorical_features:\n",
    "    unique_count = df[feature].nunique()\n",
    "    unique_values = df[feature].unique()[:10]  # Show first 10 unique values\n",
    "    print(f\"\\n{feature}:\")\n",
    "    print(f\"  Unique values: {unique_count}\")\n",
    "    print(f\"  Sample values: {unique_values}\")\n",
    "    if unique_count <= 10:\n",
    "        print(f\"  Value counts:\\n{df[feature].value_counts()}\")"
   ]
  },
  {
   "cell_type": "markdown",
   "metadata": {},
   "source": [
    "### 7. Data Quality Issues Identification"
   ]
  },
  {
   "cell_type": "code",
   "execution_count": 20,
   "metadata": {},
   "outputs": [
    {
     "name": "stdout",
     "output_type": "stream",
     "text": [
      "Data Quality Issues Summary:\n",
      "========================================\n",
      "\n",
      "1. TotalCharges Data Type Issue:\n",
      "   - Found 11 non-numeric values in TotalCharges\n",
      "   - Non-numeric values: [' ']\n",
      "\n",
      "2. Business Logic Issues:\n",
      "   - Customers with 0 tenure: 11\n",
      "   - Their TotalCharges range: count     11\n",
      "unique     1\n",
      "top         \n",
      "freq      11\n",
      "Name: TotalCharges, dtype: object\n",
      "\n",
      "3. Service Dependencies:\n"
     ]
    }
   ],
   "source": [
    "# Check for inconsistencies in categorical data\n",
    "print(\"Data Quality Issues Summary:\")\n",
    "print(\"=\" * 40)\n",
    "\n",
    "# 1. Check TotalCharges data type issue\n",
    "if df['TotalCharges'].dtype == 'object':\n",
    "    print(\"\\n1. TotalCharges Data Type Issue:\")\n",
    "    non_numeric_mask = pd.to_numeric(df['TotalCharges'], errors='coerce').isnull()\n",
    "    non_numeric_count = non_numeric_mask.sum()\n",
    "    print(f\"   - Found {non_numeric_count} non-numeric values in TotalCharges\")\n",
    "    if non_numeric_count > 0:\n",
    "        print(f\"   - Non-numeric values: {df[non_numeric_mask]['TotalCharges'].unique()}\")\n",
    "\n",
    "# 2. Check for impossible combinations\n",
    "print(\"\\n2. Business Logic Issues:\")\n",
    "# Customers with 0 tenure but have TotalCharges\n",
    "zero_tenure = df[df['tenure'] == 0]\n",
    "print(f\"   - Customers with 0 tenure: {len(zero_tenure)}\")\n",
    "if len(zero_tenure) > 0:\n",
    "    print(f\"   - Their TotalCharges range: {zero_tenure['TotalCharges'].describe()}\")\n",
    "\n",
    "# 3. Check service dependencies\n",
    "print(\"\\n3. Service Dependencies:\")\n",
    "no_internet = df[df['InternetService'] == 'No']\n",
    "internet_dependent_services = ['OnlineSecurity', 'OnlineBackup', 'DeviceProtection', \n",
    "                              'TechSupport', 'StreamingTV', 'StreamingMovies']\n",
    "for service in internet_dependent_services:\n",
    "    invalid_count = len(no_internet[no_internet[service] != 'No internet service'])\n",
    "    if invalid_count > 0:\n",
    "        print(f\"   - {service}: {invalid_count} customers without internet but have this service\")"
   ]
  },
  {
   "cell_type": "markdown",
   "metadata": {},
   "source": [
    "### 8. Initial Data Cleaning"
   ]
  },
  {
   "cell_type": "code",
   "execution_count": 21,
   "metadata": {},
   "outputs": [
    {
     "name": "stdout",
     "output_type": "stream",
     "text": [
      "Initial Data Cleaning Steps:\n",
      "==============================\n",
      "\n",
      "1. Converting TotalCharges to numeric...\n",
      "   - Converted TotalCharges to numeric type\n",
      "   - Created 11 NaN values from non-numeric entries\n",
      "\n",
      "2. Dataset shape after initial cleaning: (7043, 21)\n",
      "\n",
      "3. Updated feature counts:\n",
      "   - Numerical features: 4\n",
      "   - Categorical features: 16\n"
     ]
    }
   ],
   "source": [
    "# Create a copy for cleaning\n",
    "df_clean = df.copy()\n",
    "\n",
    "print(\"Initial Data Cleaning Steps:\")\n",
    "print(\"=\" * 30)\n",
    "\n",
    "# 1. Fix TotalCharges data type\n",
    "if df_clean['TotalCharges'].dtype == 'object':\n",
    "    print(\"\\n1. Converting TotalCharges to numeric...\")\n",
    "    # Convert to numeric, marking non-numeric as NaN\n",
    "    df_clean['TotalCharges'] = pd.to_numeric(df_clean['TotalCharges'], errors='coerce')\n",
    "    print(f\"   - Converted TotalCharges to numeric type\")\n",
    "    print(f\"   - Created {df_clean['TotalCharges'].isnull().sum()} NaN values from non-numeric entries\")\n",
    "\n",
    "# 2. Check data shape after cleaning\n",
    "print(f\"\\n2. Dataset shape after initial cleaning: {df_clean.shape}\")\n",
    "\n",
    "# 3. Update feature lists\n",
    "numerical_features_updated = df_clean.select_dtypes(include=['int64', 'float64']).columns.tolist()\n",
    "categorical_features_updated = df_clean.select_dtypes(include=['object']).columns.tolist()\n",
    "categorical_features_updated.remove('Churn')  # Remove target\n",
    "\n",
    "print(f\"\\n3. Updated feature counts:\")\n",
    "print(f\"   - Numerical features: {len(numerical_features_updated)}\")\n",
    "print(f\"   - Categorical features: {len(categorical_features_updated)}\")"
   ]
  },
  {
   "cell_type": "markdown",
   "metadata": {},
   "source": [
    "### 9. Save Prepared Data"
   ]
  },
  {
   "cell_type": "code",
   "execution_count": 29,
   "metadata": {},
   "outputs": [
    {
     "name": "stdout",
     "output_type": "stream",
     "text": [
      "Data preparation completed!\n",
      "Cleaned dataset saved to: D:\\MY\\Personal Projects\\Zuu-Crew Projects\\Building Production Ready ML Systems\\Advance Telco Customer Churn Prediction\\data\\processed/telco_data_prepared.csv\n",
      "Dataset shape: (7043, 21)\n",
      "Ready for exploratory data analysis...\n"
     ]
    }
   ],
   "source": [
    "# Ensure processed directory exists\n",
    "os.makedirs('D:\\MY\\Personal Projects\\Zuu-Crew Projects\\Building Production Ready ML Systems\\Advance Telco Customer Churn Prediction\\data\\processed', exist_ok=True)\n",
    "\n",
    "# Save the initially cleaned dataset\n",
    "output_file = 'D:\\MY\\Personal Projects\\Zuu-Crew Projects\\Building Production Ready ML Systems\\Advance Telco Customer Churn Prediction\\data\\processed/telco_data_prepared.csv'\n",
    "df_clean.to_csv(output_file, index=False)\n",
    "\n",
    "print(f\"Data preparation completed!\")\n",
    "print(f\"Cleaned dataset saved to: {output_file}\")\n",
    "print(f\"Dataset shape: {df_clean.shape}\")\n",
    "print(f\"Ready for exploratory data analysis...\")"
   ]
  },
  {
   "cell_type": "markdown",
   "metadata": {},
   "source": [
    "### 10. Data Preparation Summary"
   ]
  },
  {
   "cell_type": "code",
   "execution_count": 24,
   "metadata": {},
   "outputs": [
    {
     "name": "stdout",
     "output_type": "stream",
     "text": [
      "DATA PREPARATION SUMMARY\n",
      "==================================================\n",
      "Original dataset shape: (7043, 21)\n",
      "Cleaned dataset shape: (7043, 21)\n",
      "Features analyzed: 21\n",
      "Target variable: Churn (Class imbalance: 2.8:1)\n",
      "\n",
      "Feature Categories:\n",
      "- Demographic: 4 features\n",
      "- Account: 4 features\n",
      "- Services: 9 features\n",
      "- Financial: 2 features\n",
      "\n",
      "Data Quality Issues Identified:\n",
      "- TotalCharges data type issue (fixed)\n",
      "- Missing values to handle in next steps\n",
      "- Class imbalance to address in modeling\n",
      "\n",
      "Next Steps:\n",
      "1. Comprehensive EDA (notebook 1)\n",
      "2. Feature engineering (notebook 2)\n",
      "3. Missing value handling\n",
      "4. Model development and ensemble methods\n"
     ]
    }
   ],
   "source": [
    "print(\"DATA PREPARATION SUMMARY\")\n",
    "print(\"=\" * 50)\n",
    "print(f\"Original dataset shape: {df.shape}\")\n",
    "print(f\"Cleaned dataset shape: {df_clean.shape}\")\n",
    "print(f\"Features analyzed: {df.shape[1]}\")\n",
    "print(f\"Target variable: Churn (Class imbalance: {imbalance_ratio:.1f}:1)\")\n",
    "print(f\"\\nFeature Categories:\")\n",
    "print(f\"- Demographic: {len(demographic_features)} features\")\n",
    "print(f\"- Account: {len(account_features)} features\")\n",
    "print(f\"- Services: {len(service_features)} features\")\n",
    "print(f\"- Financial: {len(financial_features)} features\")\n",
    "print(f\"\\nData Quality Issues Identified:\")\n",
    "if df['TotalCharges'].dtype == 'object':\n",
    "    print(f\"- TotalCharges data type issue (fixed)\")\n",
    "print(f\"- Missing values to handle in next steps\")\n",
    "print(f\"- Class imbalance to address in modeling\")\n",
    "print(f\"\\nNext Steps:\")\n",
    "print(f\"1. Comprehensive EDA (notebook 1)\")\n",
    "print(f\"2. Feature engineering (notebook 2)\")\n",
    "print(f\"3. Missing value handling\")\n",
    "print(f\"4. Model development and ensemble methods\")"
   ]
  }
 ],
 "metadata": {
  "kernelspec": {
   "display_name": "ZuuCrew1",
   "language": "python",
   "name": "python3"
  },
  "language_info": {
   "codemirror_mode": {
    "name": "ipython",
    "version": 3
   },
   "file_extension": ".py",
   "mimetype": "text/x-python",
   "name": "python",
   "nbconvert_exporter": "python",
   "pygments_lexer": "ipython3",
   "version": "3.11.13"
  }
 },
 "nbformat": 4,
 "nbformat_minor": 4
}
