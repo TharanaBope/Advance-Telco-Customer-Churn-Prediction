{
 "cells": [
  {
   "cell_type": "code",
   "execution_count": 25,
   "metadata": {},
   "outputs": [
    {
     "name": "stdout",
     "output_type": "stream",
     "text": [
      "Requirement already satisfied: pandas>=1.5.0 in c:\\users\\thara\\anaconda3\\envs\\zuucrew1\\lib\\site-packages (from -r requirements.txt (line 2)) (2.3.1)\n",
      "Requirement already satisfied: numpy>=1.24.0 in c:\\users\\thara\\anaconda3\\envs\\zuucrew1\\lib\\site-packages (from -r requirements.txt (line 3)) (2.2.6)\n",
      "Requirement already satisfied: scikit-learn>=1.3.0 in c:\\users\\thara\\anaconda3\\envs\\zuucrew1\\lib\\site-packages (from -r requirements.txt (line 4)) (1.6.1)\n",
      "Requirement already satisfied: xgboost>=1.7.0 in c:\\users\\thara\\anaconda3\\envs\\zuucrew1\\lib\\site-packages (from -r requirements.txt (line 5)) (3.0.4)\n",
      "Requirement already satisfied: catboost>=1.2.0 in c:\\users\\thara\\anaconda3\\envs\\zuucrew1\\lib\\site-packages (from -r requirements.txt (line 6)) (1.2.8)\n",
      "Requirement already satisfied: matplotlib>=3.6.0 in c:\\users\\thara\\anaconda3\\envs\\zuucrew1\\lib\\site-packages (from -r requirements.txt (line 9)) (3.10.3)\n",
      "Requirement already satisfied: seaborn>=0.12.0 in c:\\users\\thara\\anaconda3\\envs\\zuucrew1\\lib\\site-packages (from -r requirements.txt (line 10)) (0.13.2)\n",
      "Requirement already satisfied: plotly>=5.15.0 in c:\\users\\thara\\anaconda3\\envs\\zuucrew1\\lib\\site-packages (from -r requirements.txt (line 11)) (6.2.0)\n",
      "Requirement already satisfied: imbalanced-learn>=0.10.0 in c:\\users\\thara\\anaconda3\\envs\\zuucrew1\\lib\\site-packages (from -r requirements.txt (line 14)) (0.13.0)\n",
      "Requirement already satisfied: joblib>=1.3.0 in c:\\users\\thara\\anaconda3\\envs\\zuucrew1\\lib\\site-packages (from -r requirements.txt (line 17)) (1.5.1)\n",
      "Requirement already satisfied: pyyaml>=6.0 in c:\\users\\thara\\anaconda3\\envs\\zuucrew1\\lib\\site-packages (from -r requirements.txt (line 18)) (6.0.2)\n",
      "Requirement already satisfied: typing-extensions>=4.7.0 in c:\\users\\thara\\anaconda3\\envs\\zuucrew1\\lib\\site-packages (from -r requirements.txt (line 19)) (4.14.1)\n",
      "Requirement already satisfied: jupyter>=1.0.0 in c:\\users\\thara\\anaconda3\\envs\\zuucrew1\\lib\\site-packages (from -r requirements.txt (line 22)) (1.1.1)\n",
      "Requirement already satisfied: pytest>=7.4.0 in c:\\users\\thara\\anaconda3\\envs\\zuucrew1\\lib\\site-packages (from -r requirements.txt (line 23)) (8.4.1)\n",
      "Requirement already satisfied: black>=23.0.0 in c:\\users\\thara\\anaconda3\\envs\\zuucrew1\\lib\\site-packages (from -r requirements.txt (line 24)) (25.1.0)\n",
      "Requirement already satisfied: flake8>=6.0.0 in c:\\users\\thara\\anaconda3\\envs\\zuucrew1\\lib\\site-packages (from -r requirements.txt (line 25)) (7.3.0)\n",
      "Requirement already satisfied: optuna>=3.3.0 in c:\\users\\thara\\anaconda3\\envs\\zuucrew1\\lib\\site-packages (from -r requirements.txt (line 28)) (4.5.0)\n",
      "Requirement already satisfied: shap>=0.42.0 in c:\\users\\thara\\anaconda3\\envs\\zuucrew1\\lib\\site-packages (from -r requirements.txt (line 29)) (0.48.0)\n",
      "Requirement already satisfied: python-dateutil>=2.8.2 in c:\\users\\thara\\anaconda3\\envs\\zuucrew1\\lib\\site-packages (from pandas>=1.5.0->-r requirements.txt (line 2)) (2.9.0.post0)\n",
      "Requirement already satisfied: pytz>=2020.1 in c:\\users\\thara\\anaconda3\\envs\\zuucrew1\\lib\\site-packages (from pandas>=1.5.0->-r requirements.txt (line 2)) (2025.2)\n",
      "Requirement already satisfied: tzdata>=2022.7 in c:\\users\\thara\\anaconda3\\envs\\zuucrew1\\lib\\site-packages (from pandas>=1.5.0->-r requirements.txt (line 2)) (2025.2)\n",
      "Requirement already satisfied: scipy>=1.6.0 in c:\\users\\thara\\anaconda3\\envs\\zuucrew1\\lib\\site-packages (from scikit-learn>=1.3.0->-r requirements.txt (line 4)) (1.16.0)\n",
      "Requirement already satisfied: threadpoolctl>=3.1.0 in c:\\users\\thara\\anaconda3\\envs\\zuucrew1\\lib\\site-packages (from scikit-learn>=1.3.0->-r requirements.txt (line 4)) (3.6.0)\n",
      "Requirement already satisfied: graphviz in c:\\users\\thara\\anaconda3\\envs\\zuucrew1\\lib\\site-packages (from catboost>=1.2.0->-r requirements.txt (line 6)) (0.21)\n",
      "Requirement already satisfied: six in c:\\users\\thara\\anaconda3\\envs\\zuucrew1\\lib\\site-packages (from catboost>=1.2.0->-r requirements.txt (line 6)) (1.17.0)\n",
      "Requirement already satisfied: contourpy>=1.0.1 in c:\\users\\thara\\anaconda3\\envs\\zuucrew1\\lib\\site-packages (from matplotlib>=3.6.0->-r requirements.txt (line 9)) (1.3.2)\n",
      "Requirement already satisfied: cycler>=0.10 in c:\\users\\thara\\anaconda3\\envs\\zuucrew1\\lib\\site-packages (from matplotlib>=3.6.0->-r requirements.txt (line 9)) (0.12.1)\n",
      "Requirement already satisfied: fonttools>=4.22.0 in c:\\users\\thara\\anaconda3\\envs\\zuucrew1\\lib\\site-packages (from matplotlib>=3.6.0->-r requirements.txt (line 9)) (4.58.5)\n",
      "Requirement already satisfied: kiwisolver>=1.3.1 in c:\\users\\thara\\anaconda3\\envs\\zuucrew1\\lib\\site-packages (from matplotlib>=3.6.0->-r requirements.txt (line 9)) (1.4.8)\n",
      "Requirement already satisfied: packaging>=20.0 in c:\\users\\thara\\anaconda3\\envs\\zuucrew1\\lib\\site-packages (from matplotlib>=3.6.0->-r requirements.txt (line 9)) (25.0)\n",
      "Requirement already satisfied: pillow>=8 in c:\\users\\thara\\anaconda3\\envs\\zuucrew1\\lib\\site-packages (from matplotlib>=3.6.0->-r requirements.txt (line 9)) (11.3.0)\n",
      "Requirement already satisfied: pyparsing>=2.3.1 in c:\\users\\thara\\anaconda3\\envs\\zuucrew1\\lib\\site-packages (from matplotlib>=3.6.0->-r requirements.txt (line 9)) (3.2.3)\n",
      "Requirement already satisfied: narwhals>=1.15.1 in c:\\users\\thara\\anaconda3\\envs\\zuucrew1\\lib\\site-packages (from plotly>=5.15.0->-r requirements.txt (line 11)) (2.0.1)\n",
      "Requirement already satisfied: sklearn-compat<1,>=0.1 in c:\\users\\thara\\anaconda3\\envs\\zuucrew1\\lib\\site-packages (from imbalanced-learn>=0.10.0->-r requirements.txt (line 14)) (0.1.3)\n",
      "Requirement already satisfied: notebook in c:\\users\\thara\\anaconda3\\envs\\zuucrew1\\lib\\site-packages (from jupyter>=1.0.0->-r requirements.txt (line 22)) (7.4.5)\n",
      "Requirement already satisfied: jupyter-console in c:\\users\\thara\\anaconda3\\envs\\zuucrew1\\lib\\site-packages (from jupyter>=1.0.0->-r requirements.txt (line 22)) (6.6.3)\n",
      "Requirement already satisfied: nbconvert in c:\\users\\thara\\anaconda3\\envs\\zuucrew1\\lib\\site-packages (from jupyter>=1.0.0->-r requirements.txt (line 22)) (7.16.6)\n",
      "Requirement already satisfied: ipykernel in c:\\users\\thara\\anaconda3\\envs\\zuucrew1\\lib\\site-packages (from jupyter>=1.0.0->-r requirements.txt (line 22)) (6.29.5)\n",
      "Requirement already satisfied: ipywidgets in c:\\users\\thara\\anaconda3\\envs\\zuucrew1\\lib\\site-packages (from jupyter>=1.0.0->-r requirements.txt (line 22)) (8.1.7)\n",
      "Requirement already satisfied: jupyterlab in c:\\users\\thara\\anaconda3\\envs\\zuucrew1\\lib\\site-packages (from jupyter>=1.0.0->-r requirements.txt (line 22)) (4.4.6)\n",
      "Requirement already satisfied: colorama>=0.4 in c:\\users\\thara\\anaconda3\\envs\\zuucrew1\\lib\\site-packages (from pytest>=7.4.0->-r requirements.txt (line 23)) (0.4.6)\n",
      "Requirement already satisfied: iniconfig>=1 in c:\\users\\thara\\anaconda3\\envs\\zuucrew1\\lib\\site-packages (from pytest>=7.4.0->-r requirements.txt (line 23)) (2.1.0)\n",
      "Requirement already satisfied: pluggy<2,>=1.5 in c:\\users\\thara\\anaconda3\\envs\\zuucrew1\\lib\\site-packages (from pytest>=7.4.0->-r requirements.txt (line 23)) (1.6.0)\n",
      "Requirement already satisfied: pygments>=2.7.2 in c:\\users\\thara\\anaconda3\\envs\\zuucrew1\\lib\\site-packages (from pytest>=7.4.0->-r requirements.txt (line 23)) (2.19.2)\n",
      "Requirement already satisfied: click>=8.0.0 in c:\\users\\thara\\anaconda3\\envs\\zuucrew1\\lib\\site-packages (from black>=23.0.0->-r requirements.txt (line 24)) (8.2.1)\n",
      "Requirement already satisfied: mypy-extensions>=0.4.3 in c:\\users\\thara\\anaconda3\\envs\\zuucrew1\\lib\\site-packages (from black>=23.0.0->-r requirements.txt (line 24)) (1.1.0)\n",
      "Requirement already satisfied: pathspec>=0.9.0 in c:\\users\\thara\\anaconda3\\envs\\zuucrew1\\lib\\site-packages (from black>=23.0.0->-r requirements.txt (line 24)) (0.12.1)\n",
      "Requirement already satisfied: platformdirs>=2 in c:\\users\\thara\\anaconda3\\envs\\zuucrew1\\lib\\site-packages (from black>=23.0.0->-r requirements.txt (line 24)) (4.3.8)\n",
      "Requirement already satisfied: mccabe<0.8.0,>=0.7.0 in c:\\users\\thara\\anaconda3\\envs\\zuucrew1\\lib\\site-packages (from flake8>=6.0.0->-r requirements.txt (line 25)) (0.7.0)\n",
      "Requirement already satisfied: pycodestyle<2.15.0,>=2.14.0 in c:\\users\\thara\\anaconda3\\envs\\zuucrew1\\lib\\site-packages (from flake8>=6.0.0->-r requirements.txt (line 25)) (2.14.0)\n",
      "Requirement already satisfied: pyflakes<3.5.0,>=3.4.0 in c:\\users\\thara\\anaconda3\\envs\\zuucrew1\\lib\\site-packages (from flake8>=6.0.0->-r requirements.txt (line 25)) (3.4.0)\n",
      "Requirement already satisfied: alembic>=1.5.0 in c:\\users\\thara\\anaconda3\\envs\\zuucrew1\\lib\\site-packages (from optuna>=3.3.0->-r requirements.txt (line 28)) (1.16.4)\n",
      "Requirement already satisfied: colorlog in c:\\users\\thara\\anaconda3\\envs\\zuucrew1\\lib\\site-packages (from optuna>=3.3.0->-r requirements.txt (line 28)) (6.9.0)\n",
      "Requirement already satisfied: sqlalchemy>=1.4.2 in c:\\users\\thara\\anaconda3\\envs\\zuucrew1\\lib\\site-packages (from optuna>=3.3.0->-r requirements.txt (line 28)) (2.0.43)\n",
      "Requirement already satisfied: tqdm in c:\\users\\thara\\anaconda3\\envs\\zuucrew1\\lib\\site-packages (from optuna>=3.3.0->-r requirements.txt (line 28)) (4.67.1)\n",
      "Requirement already satisfied: slicer==0.0.8 in c:\\users\\thara\\anaconda3\\envs\\zuucrew1\\lib\\site-packages (from shap>=0.42.0->-r requirements.txt (line 29)) (0.0.8)\n",
      "Requirement already satisfied: numba>=0.54 in c:\\users\\thara\\anaconda3\\envs\\zuucrew1\\lib\\site-packages (from shap>=0.42.0->-r requirements.txt (line 29)) (0.61.2)\n",
      "Requirement already satisfied: cloudpickle in c:\\users\\thara\\anaconda3\\envs\\zuucrew1\\lib\\site-packages (from shap>=0.42.0->-r requirements.txt (line 29)) (3.1.1)\n",
      "Requirement already satisfied: Mako in c:\\users\\thara\\anaconda3\\envs\\zuucrew1\\lib\\site-packages (from alembic>=1.5.0->optuna>=3.3.0->-r requirements.txt (line 28)) (1.3.10)\n",
      "Requirement already satisfied: llvmlite<0.45,>=0.44.0dev0 in c:\\users\\thara\\anaconda3\\envs\\zuucrew1\\lib\\site-packages (from numba>=0.54->shap>=0.42.0->-r requirements.txt (line 29)) (0.44.0)\n",
      "Requirement already satisfied: greenlet>=1 in c:\\users\\thara\\anaconda3\\envs\\zuucrew1\\lib\\site-packages (from sqlalchemy>=1.4.2->optuna>=3.3.0->-r requirements.txt (line 28)) (3.2.4)\n",
      "Requirement already satisfied: comm>=0.1.1 in c:\\users\\thara\\anaconda3\\envs\\zuucrew1\\lib\\site-packages (from ipykernel->jupyter>=1.0.0->-r requirements.txt (line 22)) (0.2.2)\n",
      "Requirement already satisfied: debugpy>=1.6.5 in c:\\users\\thara\\anaconda3\\envs\\zuucrew1\\lib\\site-packages (from ipykernel->jupyter>=1.0.0->-r requirements.txt (line 22)) (1.8.14)\n",
      "Requirement already satisfied: ipython>=7.23.1 in c:\\users\\thara\\anaconda3\\envs\\zuucrew1\\lib\\site-packages (from ipykernel->jupyter>=1.0.0->-r requirements.txt (line 22)) (9.4.0)\n",
      "Requirement already satisfied: jupyter-client>=6.1.12 in c:\\users\\thara\\anaconda3\\envs\\zuucrew1\\lib\\site-packages (from ipykernel->jupyter>=1.0.0->-r requirements.txt (line 22)) (8.6.3)\n",
      "Requirement already satisfied: jupyter-core!=5.0.*,>=4.12 in c:\\users\\thara\\anaconda3\\envs\\zuucrew1\\lib\\site-packages (from ipykernel->jupyter>=1.0.0->-r requirements.txt (line 22)) (5.8.1)\n",
      "Requirement already satisfied: matplotlib-inline>=0.1 in c:\\users\\thara\\anaconda3\\envs\\zuucrew1\\lib\\site-packages (from ipykernel->jupyter>=1.0.0->-r requirements.txt (line 22)) (0.1.7)\n",
      "Requirement already satisfied: nest-asyncio in c:\\users\\thara\\anaconda3\\envs\\zuucrew1\\lib\\site-packages (from ipykernel->jupyter>=1.0.0->-r requirements.txt (line 22)) (1.6.0)\n",
      "Requirement already satisfied: psutil in c:\\users\\thara\\anaconda3\\envs\\zuucrew1\\lib\\site-packages (from ipykernel->jupyter>=1.0.0->-r requirements.txt (line 22)) (7.0.0)\n",
      "Requirement already satisfied: pyzmq>=24 in c:\\users\\thara\\anaconda3\\envs\\zuucrew1\\lib\\site-packages (from ipykernel->jupyter>=1.0.0->-r requirements.txt (line 22)) (27.0.0)\n",
      "Requirement already satisfied: tornado>=6.1 in c:\\users\\thara\\anaconda3\\envs\\zuucrew1\\lib\\site-packages (from ipykernel->jupyter>=1.0.0->-r requirements.txt (line 22)) (6.5.1)\n",
      "Requirement already satisfied: traitlets>=5.4.0 in c:\\users\\thara\\anaconda3\\envs\\zuucrew1\\lib\\site-packages (from ipykernel->jupyter>=1.0.0->-r requirements.txt (line 22)) (5.14.3)\n",
      "Requirement already satisfied: decorator in c:\\users\\thara\\anaconda3\\envs\\zuucrew1\\lib\\site-packages (from ipython>=7.23.1->ipykernel->jupyter>=1.0.0->-r requirements.txt (line 22)) (5.2.1)\n",
      "Requirement already satisfied: ipython-pygments-lexers in c:\\users\\thara\\anaconda3\\envs\\zuucrew1\\lib\\site-packages (from ipython>=7.23.1->ipykernel->jupyter>=1.0.0->-r requirements.txt (line 22)) (1.1.1)\n",
      "Requirement already satisfied: jedi>=0.16 in c:\\users\\thara\\anaconda3\\envs\\zuucrew1\\lib\\site-packages (from ipython>=7.23.1->ipykernel->jupyter>=1.0.0->-r requirements.txt (line 22)) (0.19.2)\n",
      "Requirement already satisfied: prompt_toolkit<3.1.0,>=3.0.41 in c:\\users\\thara\\anaconda3\\envs\\zuucrew1\\lib\\site-packages (from ipython>=7.23.1->ipykernel->jupyter>=1.0.0->-r requirements.txt (line 22)) (3.0.51)\n",
      "Requirement already satisfied: stack_data in c:\\users\\thara\\anaconda3\\envs\\zuucrew1\\lib\\site-packages (from ipython>=7.23.1->ipykernel->jupyter>=1.0.0->-r requirements.txt (line 22)) (0.6.3)\n",
      "Requirement already satisfied: wcwidth in c:\\users\\thara\\anaconda3\\envs\\zuucrew1\\lib\\site-packages (from prompt_toolkit<3.1.0,>=3.0.41->ipython>=7.23.1->ipykernel->jupyter>=1.0.0->-r requirements.txt (line 22)) (0.2.13)\n",
      "Requirement already satisfied: parso<0.9.0,>=0.8.4 in c:\\users\\thara\\anaconda3\\envs\\zuucrew1\\lib\\site-packages (from jedi>=0.16->ipython>=7.23.1->ipykernel->jupyter>=1.0.0->-r requirements.txt (line 22)) (0.8.4)\n",
      "Requirement already satisfied: pywin32>=300 in c:\\users\\thara\\anaconda3\\envs\\zuucrew1\\lib\\site-packages (from jupyter-core!=5.0.*,>=4.12->ipykernel->jupyter>=1.0.0->-r requirements.txt (line 22)) (307)\n",
      "Requirement already satisfied: widgetsnbextension~=4.0.14 in c:\\users\\thara\\anaconda3\\envs\\zuucrew1\\lib\\site-packages (from ipywidgets->jupyter>=1.0.0->-r requirements.txt (line 22)) (4.0.14)\n",
      "Requirement already satisfied: jupyterlab_widgets~=3.0.15 in c:\\users\\thara\\anaconda3\\envs\\zuucrew1\\lib\\site-packages (from ipywidgets->jupyter>=1.0.0->-r requirements.txt (line 22)) (3.0.15)\n",
      "Requirement already satisfied: async-lru>=1.0.0 in c:\\users\\thara\\anaconda3\\envs\\zuucrew1\\lib\\site-packages (from jupyterlab->jupyter>=1.0.0->-r requirements.txt (line 22)) (2.0.5)\n",
      "Requirement already satisfied: httpx<1,>=0.25.0 in c:\\users\\thara\\anaconda3\\envs\\zuucrew1\\lib\\site-packages (from jupyterlab->jupyter>=1.0.0->-r requirements.txt (line 22)) (0.28.1)\n",
      "Requirement already satisfied: jinja2>=3.0.3 in c:\\users\\thara\\anaconda3\\envs\\zuucrew1\\lib\\site-packages (from jupyterlab->jupyter>=1.0.0->-r requirements.txt (line 22)) (3.1.6)\n",
      "Requirement already satisfied: jupyter-lsp>=2.0.0 in c:\\users\\thara\\anaconda3\\envs\\zuucrew1\\lib\\site-packages (from jupyterlab->jupyter>=1.0.0->-r requirements.txt (line 22)) (2.2.6)\n",
      "Requirement already satisfied: jupyter-server<3,>=2.4.0 in c:\\users\\thara\\anaconda3\\envs\\zuucrew1\\lib\\site-packages (from jupyterlab->jupyter>=1.0.0->-r requirements.txt (line 22)) (2.17.0)\n",
      "Requirement already satisfied: jupyterlab-server<3,>=2.27.1 in c:\\users\\thara\\anaconda3\\envs\\zuucrew1\\lib\\site-packages (from jupyterlab->jupyter>=1.0.0->-r requirements.txt (line 22)) (2.27.3)\n",
      "Requirement already satisfied: notebook-shim>=0.2 in c:\\users\\thara\\anaconda3\\envs\\zuucrew1\\lib\\site-packages (from jupyterlab->jupyter>=1.0.0->-r requirements.txt (line 22)) (0.2.4)\n",
      "Requirement already satisfied: setuptools>=41.1.0 in c:\\users\\thara\\anaconda3\\envs\\zuucrew1\\lib\\site-packages (from jupyterlab->jupyter>=1.0.0->-r requirements.txt (line 22)) (78.1.1)\n",
      "Requirement already satisfied: anyio in c:\\users\\thara\\anaconda3\\envs\\zuucrew1\\lib\\site-packages (from httpx<1,>=0.25.0->jupyterlab->jupyter>=1.0.0->-r requirements.txt (line 22)) (4.9.0)\n",
      "Requirement already satisfied: certifi in c:\\users\\thara\\anaconda3\\envs\\zuucrew1\\lib\\site-packages (from httpx<1,>=0.25.0->jupyterlab->jupyter>=1.0.0->-r requirements.txt (line 22)) (2025.7.9)\n",
      "Requirement already satisfied: httpcore==1.* in c:\\users\\thara\\anaconda3\\envs\\zuucrew1\\lib\\site-packages (from httpx<1,>=0.25.0->jupyterlab->jupyter>=1.0.0->-r requirements.txt (line 22)) (1.0.9)\n",
      "Requirement already satisfied: idna in c:\\users\\thara\\anaconda3\\envs\\zuucrew1\\lib\\site-packages (from httpx<1,>=0.25.0->jupyterlab->jupyter>=1.0.0->-r requirements.txt (line 22)) (3.10)\n",
      "Requirement already satisfied: h11>=0.16 in c:\\users\\thara\\anaconda3\\envs\\zuucrew1\\lib\\site-packages (from httpcore==1.*->httpx<1,>=0.25.0->jupyterlab->jupyter>=1.0.0->-r requirements.txt (line 22)) (0.16.0)\n",
      "Requirement already satisfied: argon2-cffi>=21.1 in c:\\users\\thara\\anaconda3\\envs\\zuucrew1\\lib\\site-packages (from jupyter-server<3,>=2.4.0->jupyterlab->jupyter>=1.0.0->-r requirements.txt (line 22)) (25.1.0)\n",
      "Requirement already satisfied: jupyter-events>=0.11.0 in c:\\users\\thara\\anaconda3\\envs\\zuucrew1\\lib\\site-packages (from jupyter-server<3,>=2.4.0->jupyterlab->jupyter>=1.0.0->-r requirements.txt (line 22)) (0.12.0)\n",
      "Requirement already satisfied: jupyter-server-terminals>=0.4.4 in c:\\users\\thara\\anaconda3\\envs\\zuucrew1\\lib\\site-packages (from jupyter-server<3,>=2.4.0->jupyterlab->jupyter>=1.0.0->-r requirements.txt (line 22)) (0.5.3)\n",
      "Requirement already satisfied: nbformat>=5.3.0 in c:\\users\\thara\\anaconda3\\envs\\zuucrew1\\lib\\site-packages (from jupyter-server<3,>=2.4.0->jupyterlab->jupyter>=1.0.0->-r requirements.txt (line 22)) (5.10.4)\n",
      "Requirement already satisfied: overrides>=5.0 in c:\\users\\thara\\anaconda3\\envs\\zuucrew1\\lib\\site-packages (from jupyter-server<3,>=2.4.0->jupyterlab->jupyter>=1.0.0->-r requirements.txt (line 22)) (7.7.0)\n",
      "Requirement already satisfied: prometheus-client>=0.9 in c:\\users\\thara\\anaconda3\\envs\\zuucrew1\\lib\\site-packages (from jupyter-server<3,>=2.4.0->jupyterlab->jupyter>=1.0.0->-r requirements.txt (line 22)) (0.22.1)\n",
      "Requirement already satisfied: pywinpty>=2.0.1 in c:\\users\\thara\\anaconda3\\envs\\zuucrew1\\lib\\site-packages (from jupyter-server<3,>=2.4.0->jupyterlab->jupyter>=1.0.0->-r requirements.txt (line 22)) (3.0.0)\n",
      "Requirement already satisfied: send2trash>=1.8.2 in c:\\users\\thara\\anaconda3\\envs\\zuucrew1\\lib\\site-packages (from jupyter-server<3,>=2.4.0->jupyterlab->jupyter>=1.0.0->-r requirements.txt (line 22)) (1.8.3)\n",
      "Requirement already satisfied: terminado>=0.8.3 in c:\\users\\thara\\anaconda3\\envs\\zuucrew1\\lib\\site-packages (from jupyter-server<3,>=2.4.0->jupyterlab->jupyter>=1.0.0->-r requirements.txt (line 22)) (0.18.1)\n",
      "Requirement already satisfied: websocket-client>=1.7 in c:\\users\\thara\\anaconda3\\envs\\zuucrew1\\lib\\site-packages (from jupyter-server<3,>=2.4.0->jupyterlab->jupyter>=1.0.0->-r requirements.txt (line 22)) (1.8.0)\n",
      "Requirement already satisfied: babel>=2.10 in c:\\users\\thara\\anaconda3\\envs\\zuucrew1\\lib\\site-packages (from jupyterlab-server<3,>=2.27.1->jupyterlab->jupyter>=1.0.0->-r requirements.txt (line 22)) (2.17.0)\n",
      "Requirement already satisfied: json5>=0.9.0 in c:\\users\\thara\\anaconda3\\envs\\zuucrew1\\lib\\site-packages (from jupyterlab-server<3,>=2.27.1->jupyterlab->jupyter>=1.0.0->-r requirements.txt (line 22)) (0.12.1)\n",
      "Requirement already satisfied: jsonschema>=4.18.0 in c:\\users\\thara\\anaconda3\\envs\\zuucrew1\\lib\\site-packages (from jupyterlab-server<3,>=2.27.1->jupyterlab->jupyter>=1.0.0->-r requirements.txt (line 22)) (4.25.1)\n",
      "Requirement already satisfied: requests>=2.31 in c:\\users\\thara\\anaconda3\\envs\\zuucrew1\\lib\\site-packages (from jupyterlab-server<3,>=2.27.1->jupyterlab->jupyter>=1.0.0->-r requirements.txt (line 22)) (2.32.4)\n",
      "Requirement already satisfied: sniffio>=1.1 in c:\\users\\thara\\anaconda3\\envs\\zuucrew1\\lib\\site-packages (from anyio->httpx<1,>=0.25.0->jupyterlab->jupyter>=1.0.0->-r requirements.txt (line 22)) (1.3.1)\n",
      "Requirement already satisfied: argon2-cffi-bindings in c:\\users\\thara\\anaconda3\\envs\\zuucrew1\\lib\\site-packages (from argon2-cffi>=21.1->jupyter-server<3,>=2.4.0->jupyterlab->jupyter>=1.0.0->-r requirements.txt (line 22)) (25.1.0)\n",
      "Requirement already satisfied: MarkupSafe>=2.0 in c:\\users\\thara\\anaconda3\\envs\\zuucrew1\\lib\\site-packages (from jinja2>=3.0.3->jupyterlab->jupyter>=1.0.0->-r requirements.txt (line 22)) (3.0.2)\n",
      "Requirement already satisfied: attrs>=22.2.0 in c:\\users\\thara\\anaconda3\\envs\\zuucrew1\\lib\\site-packages (from jsonschema>=4.18.0->jupyterlab-server<3,>=2.27.1->jupyterlab->jupyter>=1.0.0->-r requirements.txt (line 22)) (25.3.0)\n",
      "Requirement already satisfied: jsonschema-specifications>=2023.03.6 in c:\\users\\thara\\anaconda3\\envs\\zuucrew1\\lib\\site-packages (from jsonschema>=4.18.0->jupyterlab-server<3,>=2.27.1->jupyterlab->jupyter>=1.0.0->-r requirements.txt (line 22)) (2025.4.1)\n",
      "Requirement already satisfied: referencing>=0.28.4 in c:\\users\\thara\\anaconda3\\envs\\zuucrew1\\lib\\site-packages (from jsonschema>=4.18.0->jupyterlab-server<3,>=2.27.1->jupyterlab->jupyter>=1.0.0->-r requirements.txt (line 22)) (0.36.2)\n",
      "Requirement already satisfied: rpds-py>=0.7.1 in c:\\users\\thara\\anaconda3\\envs\\zuucrew1\\lib\\site-packages (from jsonschema>=4.18.0->jupyterlab-server<3,>=2.27.1->jupyterlab->jupyter>=1.0.0->-r requirements.txt (line 22)) (0.27.0)\n",
      "Requirement already satisfied: python-json-logger>=2.0.4 in c:\\users\\thara\\anaconda3\\envs\\zuucrew1\\lib\\site-packages (from jupyter-events>=0.11.0->jupyter-server<3,>=2.4.0->jupyterlab->jupyter>=1.0.0->-r requirements.txt (line 22)) (3.3.0)\n",
      "Requirement already satisfied: rfc3339-validator in c:\\users\\thara\\anaconda3\\envs\\zuucrew1\\lib\\site-packages (from jupyter-events>=0.11.0->jupyter-server<3,>=2.4.0->jupyterlab->jupyter>=1.0.0->-r requirements.txt (line 22)) (0.1.4)\n",
      "Requirement already satisfied: rfc3986-validator>=0.1.1 in c:\\users\\thara\\anaconda3\\envs\\zuucrew1\\lib\\site-packages (from jupyter-events>=0.11.0->jupyter-server<3,>=2.4.0->jupyterlab->jupyter>=1.0.0->-r requirements.txt (line 22)) (0.1.1)\n",
      "Requirement already satisfied: fqdn in c:\\users\\thara\\anaconda3\\envs\\zuucrew1\\lib\\site-packages (from jsonschema[format-nongpl]>=4.18.0->jupyter-events>=0.11.0->jupyter-server<3,>=2.4.0->jupyterlab->jupyter>=1.0.0->-r requirements.txt (line 22)) (1.5.1)\n",
      "Requirement already satisfied: isoduration in c:\\users\\thara\\anaconda3\\envs\\zuucrew1\\lib\\site-packages (from jsonschema[format-nongpl]>=4.18.0->jupyter-events>=0.11.0->jupyter-server<3,>=2.4.0->jupyterlab->jupyter>=1.0.0->-r requirements.txt (line 22)) (20.11.0)\n",
      "Requirement already satisfied: jsonpointer>1.13 in c:\\users\\thara\\anaconda3\\envs\\zuucrew1\\lib\\site-packages (from jsonschema[format-nongpl]>=4.18.0->jupyter-events>=0.11.0->jupyter-server<3,>=2.4.0->jupyterlab->jupyter>=1.0.0->-r requirements.txt (line 22)) (3.0.0)\n",
      "Requirement already satisfied: rfc3987-syntax>=1.1.0 in c:\\users\\thara\\anaconda3\\envs\\zuucrew1\\lib\\site-packages (from jsonschema[format-nongpl]>=4.18.0->jupyter-events>=0.11.0->jupyter-server<3,>=2.4.0->jupyterlab->jupyter>=1.0.0->-r requirements.txt (line 22)) (1.1.0)\n",
      "Requirement already satisfied: uri-template in c:\\users\\thara\\anaconda3\\envs\\zuucrew1\\lib\\site-packages (from jsonschema[format-nongpl]>=4.18.0->jupyter-events>=0.11.0->jupyter-server<3,>=2.4.0->jupyterlab->jupyter>=1.0.0->-r requirements.txt (line 22)) (1.3.0)\n",
      "Requirement already satisfied: webcolors>=24.6.0 in c:\\users\\thara\\anaconda3\\envs\\zuucrew1\\lib\\site-packages (from jsonschema[format-nongpl]>=4.18.0->jupyter-events>=0.11.0->jupyter-server<3,>=2.4.0->jupyterlab->jupyter>=1.0.0->-r requirements.txt (line 22)) (24.11.1)\n",
      "Requirement already satisfied: beautifulsoup4 in c:\\users\\thara\\anaconda3\\envs\\zuucrew1\\lib\\site-packages (from nbconvert->jupyter>=1.0.0->-r requirements.txt (line 22)) (4.13.4)\n",
      "Requirement already satisfied: bleach!=5.0.0 in c:\\users\\thara\\anaconda3\\envs\\zuucrew1\\lib\\site-packages (from bleach[css]!=5.0.0->nbconvert->jupyter>=1.0.0->-r requirements.txt (line 22)) (6.2.0)\n",
      "Requirement already satisfied: defusedxml in c:\\users\\thara\\anaconda3\\envs\\zuucrew1\\lib\\site-packages (from nbconvert->jupyter>=1.0.0->-r requirements.txt (line 22)) (0.7.1)\n",
      "Requirement already satisfied: jupyterlab-pygments in c:\\users\\thara\\anaconda3\\envs\\zuucrew1\\lib\\site-packages (from nbconvert->jupyter>=1.0.0->-r requirements.txt (line 22)) (0.3.0)\n",
      "Requirement already satisfied: mistune<4,>=2.0.3 in c:\\users\\thara\\anaconda3\\envs\\zuucrew1\\lib\\site-packages (from nbconvert->jupyter>=1.0.0->-r requirements.txt (line 22)) (3.1.3)\n",
      "Requirement already satisfied: nbclient>=0.5.0 in c:\\users\\thara\\anaconda3\\envs\\zuucrew1\\lib\\site-packages (from nbconvert->jupyter>=1.0.0->-r requirements.txt (line 22)) (0.10.2)\n",
      "Requirement already satisfied: pandocfilters>=1.4.1 in c:\\users\\thara\\anaconda3\\envs\\zuucrew1\\lib\\site-packages (from nbconvert->jupyter>=1.0.0->-r requirements.txt (line 22)) (1.5.1)\n",
      "Requirement already satisfied: webencodings in c:\\users\\thara\\anaconda3\\envs\\zuucrew1\\lib\\site-packages (from bleach!=5.0.0->bleach[css]!=5.0.0->nbconvert->jupyter>=1.0.0->-r requirements.txt (line 22)) (0.5.1)\n",
      "Requirement already satisfied: tinycss2<1.5,>=1.1.0 in c:\\users\\thara\\anaconda3\\envs\\zuucrew1\\lib\\site-packages (from bleach[css]!=5.0.0->nbconvert->jupyter>=1.0.0->-r requirements.txt (line 22)) (1.4.0)\n",
      "Requirement already satisfied: fastjsonschema>=2.15 in c:\\users\\thara\\anaconda3\\envs\\zuucrew1\\lib\\site-packages (from nbformat>=5.3.0->jupyter-server<3,>=2.4.0->jupyterlab->jupyter>=1.0.0->-r requirements.txt (line 22)) (2.21.2)\n",
      "Requirement already satisfied: charset_normalizer<4,>=2 in c:\\users\\thara\\anaconda3\\envs\\zuucrew1\\lib\\site-packages (from requests>=2.31->jupyterlab-server<3,>=2.27.1->jupyterlab->jupyter>=1.0.0->-r requirements.txt (line 22)) (3.4.3)\n",
      "Requirement already satisfied: urllib3<3,>=1.21.1 in c:\\users\\thara\\anaconda3\\envs\\zuucrew1\\lib\\site-packages (from requests>=2.31->jupyterlab-server<3,>=2.27.1->jupyterlab->jupyter>=1.0.0->-r requirements.txt (line 22)) (2.5.0)\n",
      "Requirement already satisfied: lark>=1.2.2 in c:\\users\\thara\\anaconda3\\envs\\zuucrew1\\lib\\site-packages (from rfc3987-syntax>=1.1.0->jsonschema[format-nongpl]>=4.18.0->jupyter-events>=0.11.0->jupyter-server<3,>=2.4.0->jupyterlab->jupyter>=1.0.0->-r requirements.txt (line 22)) (1.2.2)\n",
      "Requirement already satisfied: cffi>=1.0.1 in c:\\users\\thara\\anaconda3\\envs\\zuucrew1\\lib\\site-packages (from argon2-cffi-bindings->argon2-cffi>=21.1->jupyter-server<3,>=2.4.0->jupyterlab->jupyter>=1.0.0->-r requirements.txt (line 22)) (1.17.1)\n",
      "Requirement already satisfied: pycparser in c:\\users\\thara\\anaconda3\\envs\\zuucrew1\\lib\\site-packages (from cffi>=1.0.1->argon2-cffi-bindings->argon2-cffi>=21.1->jupyter-server<3,>=2.4.0->jupyterlab->jupyter>=1.0.0->-r requirements.txt (line 22)) (2.22)\n",
      "Requirement already satisfied: soupsieve>1.2 in c:\\users\\thara\\anaconda3\\envs\\zuucrew1\\lib\\site-packages (from beautifulsoup4->nbconvert->jupyter>=1.0.0->-r requirements.txt (line 22)) (2.7)\n",
      "Requirement already satisfied: arrow>=0.15.0 in c:\\users\\thara\\anaconda3\\envs\\zuucrew1\\lib\\site-packages (from isoduration->jsonschema[format-nongpl]>=4.18.0->jupyter-events>=0.11.0->jupyter-server<3,>=2.4.0->jupyterlab->jupyter>=1.0.0->-r requirements.txt (line 22)) (1.3.0)\n",
      "Requirement already satisfied: types-python-dateutil>=2.8.10 in c:\\users\\thara\\anaconda3\\envs\\zuucrew1\\lib\\site-packages (from arrow>=0.15.0->isoduration->jsonschema[format-nongpl]>=4.18.0->jupyter-events>=0.11.0->jupyter-server<3,>=2.4.0->jupyterlab->jupyter>=1.0.0->-r requirements.txt (line 22)) (2.9.0.20250822)\n",
      "Requirement already satisfied: executing>=1.2.0 in c:\\users\\thara\\anaconda3\\envs\\zuucrew1\\lib\\site-packages (from stack_data->ipython>=7.23.1->ipykernel->jupyter>=1.0.0->-r requirements.txt (line 22)) (2.2.0)\n",
      "Requirement already satisfied: asttokens>=2.1.0 in c:\\users\\thara\\anaconda3\\envs\\zuucrew1\\lib\\site-packages (from stack_data->ipython>=7.23.1->ipykernel->jupyter>=1.0.0->-r requirements.txt (line 22)) (3.0.0)\n",
      "Requirement already satisfied: pure_eval in c:\\users\\thara\\anaconda3\\envs\\zuucrew1\\lib\\site-packages (from stack_data->ipython>=7.23.1->ipykernel->jupyter>=1.0.0->-r requirements.txt (line 22)) (0.2.3)\n",
      "Note: you may need to restart the kernel to use updated packages.\n"
     ]
    }
   ],
   "source": [
    "%pip install -r requirements.txt"
   ]
  },
  {
   "cell_type": "markdown",
   "metadata": {},
   "source": [
    "### 1. Import Dependencies"
   ]
  },
  {
   "cell_type": "code",
   "execution_count": 26,
   "metadata": {},
   "outputs": [],
   "source": [
    "import os\n",
    "import numpy as np\n",
    "import pandas as pd\n",
    "import matplotlib.pyplot as plt\n",
    "import seaborn as sns\n",
    "import joblib\n",
    "from datetime import datetime\n",
    "import warnings\n",
    "warnings.filterwarnings('ignore')\n",
    "\n",
    "# Scikit-learn imports\n",
    "from sklearn.model_selection import train_test_split, cross_val_score, StratifiedKFold\n",
    "from sklearn.preprocessing import StandardScaler, LabelEncoder, OneHotEncoder\n",
    "from sklearn.compose import ColumnTransformer\n",
    "from sklearn.pipeline import Pipeline\n",
    "from sklearn.linear_model import LogisticRegression\n",
    "from sklearn.tree import DecisionTreeClassifier\n",
    "from sklearn.metrics import classification_report, confusion_matrix, roc_auc_score, roc_curve\n",
    "from sklearn.metrics import precision_score, recall_score, f1_score, accuracy_score\n",
    "\n",
    "# Class imbalance handling\n",
    "from imblearn.over_sampling import SMOTE\n",
    "from imblearn.pipeline import Pipeline as ImbPipeline\n",
    "\n",
    "# Set display options\n",
    "pd.set_option('display.max_columns', None)\n",
    "pd.set_option('display.float_format', '{:.4f}'.format)"
   ]
  },
  {
   "cell_type": "markdown",
   "metadata": {},
   "source": [
    "### 2. Load Engineered Features"
   ]
  },
  {
   "cell_type": "code",
   "execution_count": 27,
   "metadata": {},
   "outputs": [
    {
     "name": "stdout",
     "output_type": "stream",
     "text": [
      "Dataset loaded: (7043, 31)\n",
      "Target distribution:\n",
      "Churn\n",
      "No     5174\n",
      "Yes    1869\n",
      "Name: count, dtype: int64\n",
      "Churn rate: 26.5%\n"
     ]
    },
    {
     "data": {
      "text/html": [
       "<div>\n",
       "<style scoped>\n",
       "    .dataframe tbody tr th:only-of-type {\n",
       "        vertical-align: middle;\n",
       "    }\n",
       "\n",
       "    .dataframe tbody tr th {\n",
       "        vertical-align: top;\n",
       "    }\n",
       "\n",
       "    .dataframe thead th {\n",
       "        text-align: right;\n",
       "    }\n",
       "</style>\n",
       "<table border=\"1\" class=\"dataframe\">\n",
       "  <thead>\n",
       "    <tr style=\"text-align: right;\">\n",
       "      <th></th>\n",
       "      <th>customerID</th>\n",
       "      <th>gender</th>\n",
       "      <th>SeniorCitizen</th>\n",
       "      <th>Partner</th>\n",
       "      <th>Dependents</th>\n",
       "      <th>tenure</th>\n",
       "      <th>PhoneService</th>\n",
       "      <th>MultipleLines</th>\n",
       "      <th>InternetService</th>\n",
       "      <th>OnlineSecurity</th>\n",
       "      <th>OnlineBackup</th>\n",
       "      <th>DeviceProtection</th>\n",
       "      <th>TechSupport</th>\n",
       "      <th>StreamingTV</th>\n",
       "      <th>StreamingMovies</th>\n",
       "      <th>Contract</th>\n",
       "      <th>PaperlessBilling</th>\n",
       "      <th>PaymentMethod</th>\n",
       "      <th>MonthlyCharges</th>\n",
       "      <th>TotalCharges</th>\n",
       "      <th>Churn</th>\n",
       "      <th>tenure_group</th>\n",
       "      <th>tenure_category</th>\n",
       "      <th>service_adoption_score</th>\n",
       "      <th>avg_charges_per_service</th>\n",
       "      <th>payment_reliability_score</th>\n",
       "      <th>customer_value_segment</th>\n",
       "      <th>has_streaming</th>\n",
       "      <th>fiber_streaming_combo</th>\n",
       "      <th>senior_with_support</th>\n",
       "      <th>family_customer</th>\n",
       "    </tr>\n",
       "  </thead>\n",
       "  <tbody>\n",
       "    <tr>\n",
       "      <th>0</th>\n",
       "      <td>7590-VHVEG</td>\n",
       "      <td>Female</td>\n",
       "      <td>0</td>\n",
       "      <td>Yes</td>\n",
       "      <td>No</td>\n",
       "      <td>1</td>\n",
       "      <td>No</td>\n",
       "      <td>No phone service</td>\n",
       "      <td>DSL</td>\n",
       "      <td>No</td>\n",
       "      <td>Yes</td>\n",
       "      <td>No</td>\n",
       "      <td>No</td>\n",
       "      <td>No</td>\n",
       "      <td>No</td>\n",
       "      <td>Month-to-month</td>\n",
       "      <td>Yes</td>\n",
       "      <td>Electronic check</td>\n",
       "      <td>29.8500</td>\n",
       "      <td>29.8500</td>\n",
       "      <td>No</td>\n",
       "      <td>0-12</td>\n",
       "      <td>New</td>\n",
       "      <td>2</td>\n",
       "      <td>14.9250</td>\n",
       "      <td>3</td>\n",
       "      <td>Low_Value_New</td>\n",
       "      <td>0</td>\n",
       "      <td>0</td>\n",
       "      <td>0</td>\n",
       "      <td>1</td>\n",
       "    </tr>\n",
       "    <tr>\n",
       "      <th>1</th>\n",
       "      <td>5575-GNVDE</td>\n",
       "      <td>Male</td>\n",
       "      <td>0</td>\n",
       "      <td>No</td>\n",
       "      <td>No</td>\n",
       "      <td>34</td>\n",
       "      <td>Yes</td>\n",
       "      <td>No</td>\n",
       "      <td>DSL</td>\n",
       "      <td>Yes</td>\n",
       "      <td>No</td>\n",
       "      <td>Yes</td>\n",
       "      <td>No</td>\n",
       "      <td>No</td>\n",
       "      <td>No</td>\n",
       "      <td>One year</td>\n",
       "      <td>No</td>\n",
       "      <td>Mailed check</td>\n",
       "      <td>56.9500</td>\n",
       "      <td>1889.5000</td>\n",
       "      <td>No</td>\n",
       "      <td>25-36</td>\n",
       "      <td>Established</td>\n",
       "      <td>4</td>\n",
       "      <td>14.2375</td>\n",
       "      <td>4</td>\n",
       "      <td>Medium_Value</td>\n",
       "      <td>0</td>\n",
       "      <td>0</td>\n",
       "      <td>0</td>\n",
       "      <td>0</td>\n",
       "    </tr>\n",
       "    <tr>\n",
       "      <th>2</th>\n",
       "      <td>3668-QPYBK</td>\n",
       "      <td>Male</td>\n",
       "      <td>0</td>\n",
       "      <td>No</td>\n",
       "      <td>No</td>\n",
       "      <td>2</td>\n",
       "      <td>Yes</td>\n",
       "      <td>No</td>\n",
       "      <td>DSL</td>\n",
       "      <td>Yes</td>\n",
       "      <td>Yes</td>\n",
       "      <td>No</td>\n",
       "      <td>No</td>\n",
       "      <td>No</td>\n",
       "      <td>No</td>\n",
       "      <td>Month-to-month</td>\n",
       "      <td>Yes</td>\n",
       "      <td>Mailed check</td>\n",
       "      <td>53.8500</td>\n",
       "      <td>108.1500</td>\n",
       "      <td>Yes</td>\n",
       "      <td>0-12</td>\n",
       "      <td>New</td>\n",
       "      <td>4</td>\n",
       "      <td>13.4625</td>\n",
       "      <td>4</td>\n",
       "      <td>Medium_Value</td>\n",
       "      <td>0</td>\n",
       "      <td>0</td>\n",
       "      <td>0</td>\n",
       "      <td>0</td>\n",
       "    </tr>\n",
       "    <tr>\n",
       "      <th>3</th>\n",
       "      <td>7795-CFOCW</td>\n",
       "      <td>Male</td>\n",
       "      <td>0</td>\n",
       "      <td>No</td>\n",
       "      <td>No</td>\n",
       "      <td>45</td>\n",
       "      <td>No</td>\n",
       "      <td>No phone service</td>\n",
       "      <td>DSL</td>\n",
       "      <td>Yes</td>\n",
       "      <td>No</td>\n",
       "      <td>Yes</td>\n",
       "      <td>Yes</td>\n",
       "      <td>No</td>\n",
       "      <td>No</td>\n",
       "      <td>One year</td>\n",
       "      <td>No</td>\n",
       "      <td>Bank transfer (automatic)</td>\n",
       "      <td>42.3000</td>\n",
       "      <td>1840.7500</td>\n",
       "      <td>No</td>\n",
       "      <td>37-48</td>\n",
       "      <td>Loyal</td>\n",
       "      <td>4</td>\n",
       "      <td>10.5750</td>\n",
       "      <td>5</td>\n",
       "      <td>Medium_Value</td>\n",
       "      <td>0</td>\n",
       "      <td>0</td>\n",
       "      <td>0</td>\n",
       "      <td>0</td>\n",
       "    </tr>\n",
       "    <tr>\n",
       "      <th>4</th>\n",
       "      <td>9237-HQITU</td>\n",
       "      <td>Female</td>\n",
       "      <td>0</td>\n",
       "      <td>No</td>\n",
       "      <td>No</td>\n",
       "      <td>2</td>\n",
       "      <td>Yes</td>\n",
       "      <td>No</td>\n",
       "      <td>Fiber optic</td>\n",
       "      <td>No</td>\n",
       "      <td>No</td>\n",
       "      <td>No</td>\n",
       "      <td>No</td>\n",
       "      <td>No</td>\n",
       "      <td>No</td>\n",
       "      <td>Month-to-month</td>\n",
       "      <td>Yes</td>\n",
       "      <td>Electronic check</td>\n",
       "      <td>70.7000</td>\n",
       "      <td>151.6500</td>\n",
       "      <td>Yes</td>\n",
       "      <td>0-12</td>\n",
       "      <td>New</td>\n",
       "      <td>3</td>\n",
       "      <td>23.5667</td>\n",
       "      <td>3</td>\n",
       "      <td>Medium_Value</td>\n",
       "      <td>0</td>\n",
       "      <td>0</td>\n",
       "      <td>0</td>\n",
       "      <td>0</td>\n",
       "    </tr>\n",
       "  </tbody>\n",
       "</table>\n",
       "</div>"
      ],
      "text/plain": [
       "   customerID  gender  SeniorCitizen Partner Dependents  tenure PhoneService  \\\n",
       "0  7590-VHVEG  Female              0     Yes         No       1           No   \n",
       "1  5575-GNVDE    Male              0      No         No      34          Yes   \n",
       "2  3668-QPYBK    Male              0      No         No       2          Yes   \n",
       "3  7795-CFOCW    Male              0      No         No      45           No   \n",
       "4  9237-HQITU  Female              0      No         No       2          Yes   \n",
       "\n",
       "      MultipleLines InternetService OnlineSecurity OnlineBackup  \\\n",
       "0  No phone service             DSL             No          Yes   \n",
       "1                No             DSL            Yes           No   \n",
       "2                No             DSL            Yes          Yes   \n",
       "3  No phone service             DSL            Yes           No   \n",
       "4                No     Fiber optic             No           No   \n",
       "\n",
       "  DeviceProtection TechSupport StreamingTV StreamingMovies        Contract  \\\n",
       "0               No          No          No              No  Month-to-month   \n",
       "1              Yes          No          No              No        One year   \n",
       "2               No          No          No              No  Month-to-month   \n",
       "3              Yes         Yes          No              No        One year   \n",
       "4               No          No          No              No  Month-to-month   \n",
       "\n",
       "  PaperlessBilling              PaymentMethod  MonthlyCharges  TotalCharges  \\\n",
       "0              Yes           Electronic check         29.8500       29.8500   \n",
       "1               No               Mailed check         56.9500     1889.5000   \n",
       "2              Yes               Mailed check         53.8500      108.1500   \n",
       "3               No  Bank transfer (automatic)         42.3000     1840.7500   \n",
       "4              Yes           Electronic check         70.7000      151.6500   \n",
       "\n",
       "  Churn tenure_group tenure_category  service_adoption_score  \\\n",
       "0    No         0-12             New                       2   \n",
       "1    No        25-36     Established                       4   \n",
       "2   Yes         0-12             New                       4   \n",
       "3    No        37-48           Loyal                       4   \n",
       "4   Yes         0-12             New                       3   \n",
       "\n",
       "   avg_charges_per_service  payment_reliability_score customer_value_segment  \\\n",
       "0                  14.9250                          3          Low_Value_New   \n",
       "1                  14.2375                          4           Medium_Value   \n",
       "2                  13.4625                          4           Medium_Value   \n",
       "3                  10.5750                          5           Medium_Value   \n",
       "4                  23.5667                          3           Medium_Value   \n",
       "\n",
       "   has_streaming  fiber_streaming_combo  senior_with_support  family_customer  \n",
       "0              0                      0                    0                1  \n",
       "1              0                      0                    0                0  \n",
       "2              0                      0                    0                0  \n",
       "3              0                      0                    0                0  \n",
       "4              0                      0                    0                0  "
      ]
     },
     "execution_count": 27,
     "metadata": {},
     "output_type": "execute_result"
    }
   ],
   "source": [
    "# Load data from feature engineering notebook\n",
    "df = pd.read_csv(r'D:\\MY\\Personal Projects\\Zuu-Crew Projects\\Building Production Ready ML Systems\\Advance Telco Customer Churn Prediction\\notebooks\\artifacts\\processed\\telco_features_engineered.csv')\n",
    "print(f\"Dataset loaded: {df.shape}\")\n",
    "print(f\"Target distribution:\")\n",
    "print(df['Churn'].value_counts())\n",
    "print(f\"Churn rate: {(df['Churn'] == 'Yes').mean()*100:.1f}%\")\n",
    "df.head()"
   ]
  },
  {
   "cell_type": "code",
   "execution_count": 28,
   "metadata": {},
   "outputs": [
    {
     "name": "stdout",
     "output_type": "stream",
     "text": [
      "Total missing values: 11\n",
      "Missing values by column:\n",
      "tenure_group    11\n",
      "dtype: int64\n"
     ]
    }
   ],
   "source": [
    "# Check for missing values\n",
    "missing_values = df.isnull().sum().sum()\n",
    "print(f\"Total missing values: {missing_values}\")\n",
    "\n",
    "if missing_values > 0:\n",
    "    print(\"Missing values by column:\")\n",
    "    print(df.isnull().sum()[df.isnull().sum() > 0])\n",
    "else:\n",
    "    print(\"✅ No missing values found!\")"
   ]
  },
  {
   "cell_type": "markdown",
   "metadata": {},
   "source": [
    "### 3. Prepare Features for Modeling"
   ]
  },
  {
   "cell_type": "code",
   "execution_count": 29,
   "metadata": {},
   "outputs": [
    {
     "name": "stdout",
     "output_type": "stream",
     "text": [
      "Feature matrix shape: (7043, 30)\n",
      "Target vector shape: (7043,)\n",
      "\n",
      "Target encoding: {'No': np.int64(0), 'Yes': np.int64(1)}\n"
     ]
    }
   ],
   "source": [
    "# Separate features and target\n",
    "X = df.drop('Churn', axis=1)\n",
    "y = df['Churn']\n",
    "\n",
    "print(f\"Feature matrix shape: {X.shape}\")\n",
    "print(f\"Target vector shape: {y.shape}\")\n",
    "\n",
    "# Encode target variable\n",
    "label_encoder = LabelEncoder()\n",
    "y_encoded = label_encoder.fit_transform(y)\n",
    "print(f\"\\nTarget encoding: {dict(zip(label_encoder.classes_, label_encoder.transform(label_encoder.classes_)))}\")"
   ]
  },
  {
   "cell_type": "code",
   "execution_count": 30,
   "metadata": {},
   "outputs": [
    {
     "name": "stdout",
     "output_type": "stream",
     "text": [
      "Numerical features (11): ['SeniorCitizen', 'tenure', 'MonthlyCharges', 'TotalCharges', 'service_adoption_score', 'avg_charges_per_service', 'payment_reliability_score', 'has_streaming', 'fiber_streaming_combo', 'senior_with_support', 'family_customer']\n",
      "Categorical features (19): ['customerID', 'gender', 'Partner', 'Dependents', 'PhoneService', 'MultipleLines', 'InternetService', 'OnlineSecurity', 'OnlineBackup', 'DeviceProtection', 'TechSupport', 'StreamingTV', 'StreamingMovies', 'Contract', 'PaperlessBilling', 'PaymentMethod', 'tenure_group', 'tenure_category', 'customer_value_segment']\n",
      "\n",
      "Categorical feature cardinality:\n",
      "customerID               : 7043 unique values\n",
      "gender                   :   2 unique values\n",
      "Partner                  :   2 unique values\n",
      "Dependents               :   2 unique values\n",
      "PhoneService             :   2 unique values\n",
      "MultipleLines            :   3 unique values\n",
      "InternetService          :   3 unique values\n",
      "OnlineSecurity           :   3 unique values\n",
      "OnlineBackup             :   3 unique values\n",
      "DeviceProtection         :   3 unique values\n",
      "TechSupport              :   3 unique values\n",
      "StreamingTV              :   3 unique values\n",
      "StreamingMovies          :   3 unique values\n",
      "Contract                 :   3 unique values\n",
      "PaperlessBilling         :   2 unique values\n",
      "PaymentMethod            :   4 unique values\n",
      "tenure_group             :   5 unique values\n",
      "tenure_category          :   3 unique values\n",
      "customer_value_segment   :   5 unique values\n"
     ]
    }
   ],
   "source": [
    "# Identify feature types for preprocessing\n",
    "numerical_features = X.select_dtypes(include=[np.number]).columns.tolist()\n",
    "categorical_features = X.select_dtypes(include=['object']).columns.tolist()\n",
    "\n",
    "print(f\"Numerical features ({len(numerical_features)}): {numerical_features}\")\n",
    "print(f\"Categorical features ({len(categorical_features)}): {categorical_features}\")\n",
    "\n",
    "# Check unique values in categorical features\n",
    "print(\"\\nCategorical feature cardinality:\")\n",
    "for feature in categorical_features:\n",
    "    unique_count = X[feature].nunique()\n",
    "    print(f\"{feature:25s}: {unique_count:3d} unique values\")"
   ]
  },
  {
   "cell_type": "markdown",
   "metadata": {},
   "source": [
    "### 4. Create Preprocessing Pipeline"
   ]
  },
  {
   "cell_type": "code",
   "execution_count": 31,
   "metadata": {},
   "outputs": [
    {
     "name": "stdout",
     "output_type": "stream",
     "text": [
      "Preprocessing pipeline created:\n",
      "- Numerical features: Median imputation + Standard scaling\n",
      "- Categorical features: Constant imputation + One-hot encoding\n"
     ]
    }
   ],
   "source": [
    "# Create preprocessing pipelines for different feature types\n",
    "from sklearn.impute import SimpleImputer\n",
    "\n",
    "# Numerical preprocessing: imputation + scaling\n",
    "numerical_transformer = Pipeline(steps=[\n",
    "    ('imputer', SimpleImputer(strategy='median')),\n",
    "    ('scaler', StandardScaler())\n",
    "])\n",
    "\n",
    "# Categorical preprocessing: imputation + one-hot encoding\n",
    "categorical_transformer = Pipeline(steps=[\n",
    "    ('imputer', SimpleImputer(strategy='constant', fill_value='missing')),\n",
    "    ('onehot', OneHotEncoder(drop='first', sparse_output=False, handle_unknown='ignore'))\n",
    "])\n",
    "\n",
    "# Combine preprocessing steps\n",
    "preprocessor = ColumnTransformer(\n",
    "    transformers=[\n",
    "        ('num', numerical_transformer, numerical_features),\n",
    "        ('cat', categorical_transformer, categorical_features)\n",
    "    ]\n",
    ")\n",
    "\n",
    "print(\"Preprocessing pipeline created:\")\n",
    "print(f\"- Numerical features: Median imputation + Standard scaling\")\n",
    "print(f\"- Categorical features: Constant imputation + One-hot encoding\")"
   ]
  },
  {
   "cell_type": "markdown",
   "metadata": {},
   "source": [
    "### 5. Train-Test Split with Stratification"
   ]
  },
  {
   "cell_type": "code",
   "execution_count": 32,
   "metadata": {},
   "outputs": [
    {
     "name": "stdout",
     "output_type": "stream",
     "text": [
      "Training set: 5,634 samples\n",
      "Test set: 1,409 samples\n",
      "\n",
      "Class distribution:\n",
      "Training set churn rate: 0.265\n",
      "Test set churn rate: 0.265\n",
      "Difference: 0.000 (should be small)\n"
     ]
    }
   ],
   "source": [
    "# Stratified train-test split to maintain class distribution\n",
    "X_train, X_test, y_train, y_test = train_test_split(\n",
    "    X, y_encoded, \n",
    "    test_size=0.2, \n",
    "    random_state=42, \n",
    "    stratify=y_encoded\n",
    ")\n",
    "\n",
    "print(f\"Training set: {X_train.shape[0]:,} samples\")\n",
    "print(f\"Test set: {X_test.shape[0]:,} samples\")\n",
    "\n",
    "# Check class distribution in splits\n",
    "train_churn_rate = y_train.mean()\n",
    "test_churn_rate = y_test.mean()\n",
    "\n",
    "print(f\"\\nClass distribution:\")\n",
    "print(f\"Training set churn rate: {train_churn_rate:.3f}\")\n",
    "print(f\"Test set churn rate: {test_churn_rate:.3f}\")\n",
    "print(f\"Difference: {abs(train_churn_rate - test_churn_rate):.3f} (should be small)\")"
   ]
  },
  {
   "cell_type": "code",
   "execution_count": 33,
   "metadata": {},
   "outputs": [
    {
     "data": {
      "image/png": "[encoded data removed]",
      "text/plain": [
       "<Figure size 1200x500 with 2 Axes>"
      ]
     },
     "metadata": {},
     "output_type": "display_data"
    }
   ],
   "source": [
    "# Visualize class distribution in train/test splits\n",
    "fig, axes = plt.subplots(1, 2, figsize=(12, 5))\n",
    "\n",
    "# Training set distribution\n",
    "train_counts = pd.Series(y_train).value_counts().sort_index()\n",
    "train_labels = ['No Churn', 'Churn']\n",
    "axes[0].pie(train_counts.values, labels=train_labels, autopct='%1.1f%%', \n",
    "           colors=['lightblue', 'salmon'], startangle=90)\n",
    "axes[0].set_title('Training Set Class Distribution')\n",
    "\n",
    "# Test set distribution\n",
    "test_counts = pd.Series(y_test).value_counts().sort_index()\n",
    "axes[1].pie(test_counts.values, labels=train_labels, autopct='%1.1f%%', \n",
    "           colors=['lightblue', 'salmon'], startangle=90)\n",
    "axes[1].set_title('Test Set Class Distribution')\n",
    "\n",
    "plt.tight_layout()\n",
    "plt.show()"
   ]
  },
  {
   "cell_type": "markdown",
   "metadata": {},
   "source": [
    "### 6. Baseline Model - Logistic Regression"
   ]
  },
  {
   "cell_type": "code",
   "execution_count": 34,
   "metadata": {},
   "outputs": [
    {
     "name": "stdout",
     "output_type": "stream",
     "text": [
      "Training baseline logistic regression model...\n",
      "✅ Model training completed!\n"
     ]
    }
   ],
   "source": [
    "# Create baseline logistic regression model\n",
    "baseline_model = Pipeline(steps=[\n",
    "    ('preprocessor', preprocessor),\n",
    "    ('classifier', LogisticRegression(random_state=42, max_iter=1000))\n",
    "])\n",
    "\n",
    "# Fit the model\n",
    "print(\"Training baseline logistic regression model...\")\n",
    "baseline_model.fit(X_train, y_train)\n",
    "print(\"✅ Model training completed!\")"
   ]
  },
  {
   "cell_type": "code",
   "execution_count": 35,
   "metadata": {},
   "outputs": [
    {
     "name": "stdout",
     "output_type": "stream",
     "text": [
      "BASELINE MODEL PERFORMANCE (Logistic Regression)\n",
      "=======================================================\n",
      "Metric       Training     Test         Difference  \n",
      "-------------------------------------------------------\n",
      "ACCURACY     0.8846       0.8027       0.0819      \n",
      "PRECISION    0.8460       0.6579       0.1881      \n",
      "RECALL       0.6910       0.5348       0.1562      \n",
      "F1           0.7607       0.5900       0.1707      \n",
      "ROC_AUC      0.9370       0.8427       0.0942      \n"
     ]
    }
   ],
   "source": [
    "# Make predictions\n",
    "y_train_pred = baseline_model.predict(X_train)\n",
    "y_test_pred = baseline_model.predict(X_test)\n",
    "y_train_pred_proba = baseline_model.predict_proba(X_train)[:, 1]\n",
    "y_test_pred_proba = baseline_model.predict_proba(X_test)[:, 1]\n",
    "\n",
    "# Calculate metrics\n",
    "def calculate_metrics(y_true, y_pred, y_pred_proba):\n",
    "    metrics = {\n",
    "        'accuracy': accuracy_score(y_true, y_pred),\n",
    "        'precision': precision_score(y_true, y_pred),\n",
    "        'recall': recall_score(y_true, y_pred),\n",
    "        'f1': f1_score(y_true, y_pred),\n",
    "        'roc_auc': roc_auc_score(y_true, y_pred_proba)\n",
    "    }\n",
    "    return metrics\n",
    "\n",
    "# Baseline model performance\n",
    "train_metrics = calculate_metrics(y_train, y_train_pred, y_train_pred_proba)\n",
    "test_metrics = calculate_metrics(y_test, y_test_pred, y_test_pred_proba)\n",
    "\n",
    "print(\"BASELINE MODEL PERFORMANCE (Logistic Regression)\")\n",
    "print(\"=\" * 55)\n",
    "print(f\"{'Metric':<12} {'Training':<12} {'Test':<12} {'Difference':<12}\")\n",
    "print(\"-\" * 55)\n",
    "for metric in train_metrics.keys():\n",
    "    train_val = train_metrics[metric]\n",
    "    test_val = test_metrics[metric]\n",
    "    diff = train_val - test_val\n",
    "    print(f\"{metric.upper():<12} {train_val:<12.4f} {test_val:<12.4f} {diff:<12.4f}\")"
   ]
  },
  {
   "cell_type": "markdown",
   "metadata": {},
   "source": [
    "### 7. Decision Tree Model"
   ]
  },
  {
   "cell_type": "code",
   "execution_count": 36,
   "metadata": {},
   "outputs": [
    {
     "name": "stdout",
     "output_type": "stream",
     "text": [
      "Training decision tree model...\n",
      "✅ Model training completed!\n"
     ]
    }
   ],
   "source": [
    "# Create decision tree model\n",
    "tree_model = Pipeline(steps=[\n",
    "    ('preprocessor', preprocessor),\n",
    "    ('classifier', DecisionTreeClassifier(random_state=42, max_depth=10, min_samples_split=20))\n",
    "])\n",
    "\n",
    "# Fit the model\n",
    "print(\"Training decision tree model...\")\n",
    "tree_model.fit(X_train, y_train)\n",
    "print(\"✅ Model training completed!\")"
   ]
  },
  {
   "cell_type": "code",
   "execution_count": 37,
   "metadata": {},
   "outputs": [
    {
     "name": "stdout",
     "output_type": "stream",
     "text": [
      "DECISION TREE MODEL PERFORMANCE\n",
      "=============================================\n",
      "Metric       Training     Test         Difference  \n",
      "---------------------------------------------\n",
      "ACCURACY     0.8655       0.7828       0.0826      \n",
      "PRECISION    0.8068       0.6141       0.1927      \n",
      "RECALL       0.6482       0.4893       0.1589      \n",
      "F1           0.7188       0.5446       0.1742      \n",
      "ROC_AUC      0.9207       0.7857       0.1350      \n"
     ]
    }
   ],
   "source": [
    "# Make predictions\n",
    "y_train_pred_tree = tree_model.predict(X_train)\n",
    "y_test_pred_tree = tree_model.predict(X_test)\n",
    "y_train_pred_proba_tree = tree_model.predict_proba(X_train)[:, 1]\n",
    "y_test_pred_proba_tree = tree_model.predict_proba(X_test)[:, 1]\n",
    "\n",
    "# Calculate metrics\n",
    "train_metrics_tree = calculate_metrics(y_train, y_train_pred_tree, y_train_pred_proba_tree)\n",
    "test_metrics_tree = calculate_metrics(y_test, y_test_pred_tree, y_test_pred_proba_tree)\n",
    "\n",
    "print(\"DECISION TREE MODEL PERFORMANCE\")\n",
    "print(\"=\" * 45)\n",
    "print(f\"{'Metric':<12} {'Training':<12} {'Test':<12} {'Difference':<12}\")\n",
    "print(\"-\" * 45)\n",
    "for metric in train_metrics_tree.keys():\n",
    "    train_val = train_metrics_tree[metric]\n",
    "    test_val = test_metrics_tree[metric]\n",
    "    diff = train_val - test_val\n",
    "    print(f\"{metric.upper():<12} {train_val:<12.4f} {test_val:<12.4f} {diff:<12.4f}\")"
   ]
  },
  {
   "cell_type": "markdown",
   "metadata": {},
   "source": [
    "### 8. Cross-Validation for Model Comparison"
   ]
  },
  {
   "cell_type": "code",
   "execution_count": 38,
   "metadata": {},
   "outputs": [
    {
     "name": "stdout",
     "output_type": "stream",
     "text": [
      "CROSS-VALIDATION RESULTS\n",
      "==================================================\n",
      "\n",
      "Logistic Regression:\n",
      "  ACCURACY    : 0.8097 (+/- 0.0247)\n",
      "  PRECISION   : 0.6765 (+/- 0.0561)\n",
      "  RECALL      : 0.5418 (+/- 0.0718)\n",
      "  F1          : 0.6014 (+/- 0.0617)\n",
      "  ROC_AUC     : 0.8479 (+/- 0.0220)\n",
      "\n",
      "Decision Tree:\n",
      "  ACCURACY    : 0.7762 (+/- 0.0293)\n",
      "  PRECISION   : 0.5928 (+/- 0.0649)\n",
      "  RECALL      : 0.5003 (+/- 0.0812)\n",
      "  F1          : 0.5422 (+/- 0.0678)\n",
      "  ROC_AUC     : 0.7787 (+/- 0.0363)\n"
     ]
    }
   ],
   "source": [
    "# Cross-validation setup\n",
    "cv_folds = 5\n",
    "cv_strategy = StratifiedKFold(n_splits=cv_folds, shuffle=True, random_state=42)\n",
    "\n",
    "# Models to evaluate\n",
    "models = {\n",
    "    'Logistic Regression': baseline_model,\n",
    "    'Decision Tree': tree_model\n",
    "}\n",
    "\n",
    "# Scoring metrics for cross-validation\n",
    "scoring_metrics = ['accuracy', 'precision', 'recall', 'f1', 'roc_auc']\n",
    "\n",
    "print(\"CROSS-VALIDATION RESULTS\")\n",
    "print(\"=\" * 50)\n",
    "\n",
    "cv_results = {}\n",
    "for model_name, model in models.items():\n",
    "    print(f\"\\n{model_name}:\")\n",
    "    cv_results[model_name] = {}\n",
    "    \n",
    "    for metric in scoring_metrics:\n",
    "        scores = cross_val_score(model, X_train, y_train, cv=cv_strategy, \n",
    "                               scoring=metric, n_jobs=-1)\n",
    "        cv_results[model_name][metric] = {\n",
    "            'mean': scores.mean(),\n",
    "            'std': scores.std(),\n",
    "            'scores': scores\n",
    "        }\n",
    "        print(f\"  {metric.upper():<12}: {scores.mean():.4f} (+/- {scores.std()*2:.4f})\")"
   ]
  },
  {
   "cell_type": "code",
   "execution_count": 39,
   "metadata": {},
   "outputs": [
    {
     "data": {
      "image/png": "[encoded data removed]",
      "text/plain": [
       "<Figure size 2000x400 with 5 Axes>"
      ]
     },
     "metadata": {},
     "output_type": "display_data"
    }
   ],
   "source": [
    "# Visualize cross-validation results\n",
    "fig, axes = plt.subplots(1, len(scoring_metrics), figsize=(20, 4))\n",
    "\n",
    "for i, metric in enumerate(scoring_metrics):\n",
    "    model_names = list(cv_results.keys())\n",
    "    means = [cv_results[model][metric]['mean'] for model in model_names]\n",
    "    stds = [cv_results[model][metric]['std'] for model in model_names]\n",
    "    \n",
    "    bars = axes[i].bar(model_names, means, yerr=stds, capsize=5, \n",
    "                      color=['lightblue', 'lightcoral'], alpha=0.7)\n",
    "    axes[i].set_title(f'{metric.upper()} (CV)', fontweight='bold')\n",
    "    axes[i].set_ylabel('Score')\n",
    "    axes[i].tick_params(axis='x', rotation=45)\n",
    "    axes[i].grid(True, alpha=0.3)\n",
    "    \n",
    "    # Add value labels on bars\n",
    "    for bar, mean in zip(bars, means):\n",
    "        height = bar.get_height()\n",
    "        axes[i].text(bar.get_x() + bar.get_width()/2., height + stds[bars.index(bar)]/2,\n",
    "                    f'{mean:.3f}', ha='center', va='bottom', fontweight='bold', fontsize=9)\n",
    "\n",
    "plt.tight_layout()\n",
    "plt.show()"
   ]
  },
  {
   "cell_type": "markdown",
   "metadata": {},
   "source": [
    "### 9. Handle Class Imbalance with SMOTE"
   ]
  },
  {
   "cell_type": "code",
   "execution_count": 40,
   "metadata": {},
   "outputs": [
    {
     "name": "stdout",
     "output_type": "stream",
     "text": [
      "Training models with SMOTE for class imbalance handling...\n",
      "✅ SMOTE models training completed!\n"
     ]
    }
   ],
   "source": [
    "# Create models with SMOTE for class imbalance\n",
    "baseline_smote = ImbPipeline(steps=[\n",
    "    ('preprocessor', preprocessor),\n",
    "    ('smote', SMOTE(random_state=42)),\n",
    "    ('classifier', LogisticRegression(random_state=42, max_iter=1000))\n",
    "])\n",
    "\n",
    "tree_smote = ImbPipeline(steps=[\n",
    "    ('preprocessor', preprocessor),\n",
    "    ('smote', SMOTE(random_state=42)),\n",
    "    ('classifier', DecisionTreeClassifier(random_state=42, max_depth=10, min_samples_split=20))\n",
    "])\n",
    "\n",
    "print(\"Training models with SMOTE for class imbalance handling...\")\n",
    "\n",
    "# Fit models with SMOTE\n",
    "baseline_smote.fit(X_train, y_train)\n",
    "tree_smote.fit(X_train, y_train)\n",
    "\n",
    "print(\"✅ SMOTE models training completed!\")"
   ]
  },
  {
   "cell_type": "code",
   "execution_count": 41,
   "metadata": {},
   "outputs": [
    {
     "name": "stdout",
     "output_type": "stream",
     "text": [
      "SMOTE MODELS CROSS-VALIDATION RESULTS\n",
      "=======================================================\n",
      "\n",
      "Logistic Regression + SMOTE:\n",
      "  ACCURACY    : 0.7796 (+/- 0.0257)\n",
      "  PRECISION   : 0.5652 (+/- 0.0376)\n",
      "  RECALL      : 0.7331 (+/- 0.0559)\n",
      "  F1          : 0.6383 (+/- 0.0435)\n",
      "  ROC_AUC     : 0.8470 (+/- 0.0225)\n",
      "\n",
      "Decision Tree + SMOTE:\n",
      "  ACCURACY    : 0.7659 (+/- 0.0437)\n",
      "  PRECISION   : 0.5544 (+/- 0.0794)\n",
      "  RECALL      : 0.6301 (+/- 0.0620)\n",
      "  F1          : 0.5887 (+/- 0.0519)\n",
      "  ROC_AUC     : 0.8100 (+/- 0.0272)\n"
     ]
    }
   ],
   "source": [
    "# Evaluate SMOTE models\n",
    "models_smote = {\n",
    "    'Logistic Regression + SMOTE': baseline_smote,\n",
    "    'Decision Tree + SMOTE': tree_smote\n",
    "}\n",
    "\n",
    "print(\"SMOTE MODELS CROSS-VALIDATION RESULTS\")\n",
    "print(\"=\" * 55)\n",
    "\n",
    "cv_results_smote = {}\n",
    "for model_name, model in models_smote.items():\n",
    "    print(f\"\\n{model_name}:\")\n",
    "    cv_results_smote[model_name] = {}\n",
    "    \n",
    "    for metric in scoring_metrics:\n",
    "        scores = cross_val_score(model, X_train, y_train, cv=cv_strategy, \n",
    "                               scoring=metric, n_jobs=-1)\n",
    "        cv_results_smote[model_name][metric] = {\n",
    "            'mean': scores.mean(),\n",
    "            'std': scores.std(),\n",
    "            'scores': scores\n",
    "        }\n",
    "        print(f\"  {metric.upper():<12}: {scores.mean():.4f} (+/- {scores.std()*2:.4f})\")"
   ]
  },
  {
   "cell_type": "markdown",
   "metadata": {},
   "source": [
    "### 10. Model Comparison and Selection"
   ]
  },
  {
   "cell_type": "code",
   "execution_count": 42,
   "metadata": {},
   "outputs": [
    {
     "name": "stdout",
     "output_type": "stream",
     "text": [
      "MODEL COMPARISON SUMMARY\n",
      "================================================================================\n",
      "Model                     Accuracy     Precision    Recall       F1           ROC-AUC     \n",
      "--------------------------------------------------------------------------------\n",
      "Logistic Regression       0.8097       0.6765       0.5418       0.6014       0.8479      \n",
      "Decision Tree             0.7762       0.5928       0.5003       0.5422       0.7787      \n",
      "Logistic Regression + SMOTE 0.7796       0.5652       0.7331       0.6383       0.8470      \n",
      "Decision Tree + SMOTE     0.7659       0.5544       0.6301       0.5887       0.8100      \n"
     ]
    }
   ],
   "source": [
    "# Combine all models for comparison\n",
    "all_models = {**cv_results, **cv_results_smote}\n",
    "\n",
    "# Create comparison DataFrame\n",
    "comparison_data = []\n",
    "for model_name in all_models.keys():\n",
    "    model_data = {'Model': model_name}\n",
    "    for metric in scoring_metrics:\n",
    "        model_data[f'{metric}_mean'] = all_models[model_name][metric]['mean']\n",
    "        model_data[f'{metric}_std'] = all_models[model_name][metric]['std']\n",
    "    comparison_data.append(model_data)\n",
    "\n",
    "comparison_df = pd.DataFrame(comparison_data)\n",
    "\n",
    "print(\"MODEL COMPARISON SUMMARY\")\n",
    "print(\"=\" * 80)\n",
    "print(f\"{'Model':<25} {'Accuracy':<12} {'Precision':<12} {'Recall':<12} {'F1':<12} {'ROC-AUC':<12}\")\n",
    "print(\"-\" * 80)\n",
    "\n",
    "for _, row in comparison_df.iterrows():\n",
    "    print(f\"{row['Model']:<25} {row['accuracy_mean']:<12.4f} {row['precision_mean']:<12.4f} \"\n",
    "          f\"{row['recall_mean']:<12.4f} {row['f1_mean']:<12.4f} {row['roc_auc_mean']:<12.4f}\")"
   ]
  },
  {
   "cell_type": "code",
   "execution_count": 43,
   "metadata": {},
   "outputs": [
    {
     "name": "stdout",
     "output_type": "stream",
     "text": [
      "\n",
      "BEST MODELS BY METRIC:\n",
      "==============================\n",
      "ACCURACY    : Logistic Regression       (0.8097)\n",
      "PRECISION   : Logistic Regression       (0.6765)\n",
      "RECALL      : Logistic Regression + SMOTE (0.7331)\n",
      "F1          : Logistic Regression + SMOTE (0.6383)\n",
      "ROC_AUC     : Logistic Regression       (0.8479)\n",
      "\n",
      "🏆 RECOMMENDED MODEL: Logistic Regression + SMOTE\n",
      "   Combined F1 + ROC-AUC Score: 0.7426\n",
      "   F1 Score: 0.6383\n",
      "   ROC-AUC Score: 0.8470\n"
     ]
    }
   ],
   "source": [
    "# Find best model for each metric\n",
    "print(\"\\nBEST MODELS BY METRIC:\")\n",
    "print(\"=\" * 30)\n",
    "\n",
    "for metric in scoring_metrics:\n",
    "    metric_col = f'{metric}_mean'\n",
    "    best_idx = comparison_df[metric_col].idxmax()\n",
    "    best_model = comparison_df.loc[best_idx, 'Model']\n",
    "    best_score = comparison_df.loc[best_idx, metric_col]\n",
    "    print(f\"{metric.upper():<12}: {best_model:<25} ({best_score:.4f})\")\n",
    "\n",
    "# Recommend best overall model (balanced F1 and ROC-AUC)\n",
    "comparison_df['f1_roc_avg'] = (comparison_df['f1_mean'] + comparison_df['roc_auc_mean']) / 2\n",
    "best_overall_idx = comparison_df['f1_roc_avg'].idxmax()\n",
    "recommended_model = comparison_df.loc[best_overall_idx, 'Model']\n",
    "recommended_score = comparison_df.loc[best_overall_idx, 'f1_roc_avg']\n",
    "\n",
    "print(f\"\\n🏆 RECOMMENDED MODEL: {recommended_model}\")\n",
    "print(f\"   Combined F1 + ROC-AUC Score: {recommended_score:.4f}\")\n",
    "print(f\"   F1 Score: {comparison_df.loc[best_overall_idx, 'f1_mean']:.4f}\")\n",
    "print(f\"   ROC-AUC Score: {comparison_df.loc[best_overall_idx, 'roc_auc_mean']:.4f}\")"
   ]
  },
  {
   "cell_type": "markdown",
   "metadata": {},
   "source": [
    "### 11. Final Model Evaluation on Test Set"
   ]
  },
  {
   "cell_type": "code",
   "execution_count": 44,
   "metadata": {},
   "outputs": [
    {
     "name": "stdout",
     "output_type": "stream",
     "text": [
      "FINAL MODEL PERFORMANCE ON TEST SET\n",
      "Model: Logistic Regression + SMOTE\n",
      "==================================================\n",
      "ACCURACY    : 0.7573\n",
      "PRECISION   : 0.5320\n",
      "RECALL      : 0.7112\n",
      "F1          : 0.6087\n",
      "ROC_AUC     : 0.8410\n"
     ]
    }
   ],
   "source": [
    "# Select best model and evaluate on test set\n",
    "if 'SMOTE' in recommended_model:\n",
    "    if 'Logistic' in recommended_model:\n",
    "        best_model = baseline_smote\n",
    "    else:\n",
    "        best_model = tree_smote\n",
    "else:\n",
    "    if 'Logistic' in recommended_model:\n",
    "        best_model = baseline_model\n",
    "    else:\n",
    "        best_model = tree_model\n",
    "\n",
    "# Make final predictions on test set\n",
    "y_test_pred_final = best_model.predict(X_test)\n",
    "y_test_pred_proba_final = best_model.predict_proba(X_test)[:, 1]\n",
    "\n",
    "# Calculate final metrics\n",
    "final_metrics = calculate_metrics(y_test, y_test_pred_final, y_test_pred_proba_final)\n",
    "\n",
    "print(f\"FINAL MODEL PERFORMANCE ON TEST SET\")\n",
    "print(f\"Model: {recommended_model}\")\n",
    "print(\"=\" * 50)\n",
    "for metric, value in final_metrics.items():\n",
    "    print(f\"{metric.upper():<12}: {value:.4f}\")"
   ]
  },
  {
   "cell_type": "code",
   "execution_count": 45,
   "metadata": {},
   "outputs": [
    {
     "data": {
      "image/png": "[encoded data removed]",
      "text/plain": [
       "<Figure size 800x600 with 2 Axes>"
      ]
     },
     "metadata": {},
     "output_type": "display_data"
    },
    {
     "name": "stdout",
     "output_type": "stream",
     "text": [
      "Confusion Matrix Breakdown:\n",
      "True Negatives (Correctly predicted No Churn): 801\n",
      "False Positives (Incorrectly predicted Churn): 234\n",
      "False Negatives (Missed Churn): 108\n",
      "True Positives (Correctly predicted Churn): 266\n"
     ]
    }
   ],
   "source": [
    "# Confusion Matrix\n",
    "cm = confusion_matrix(y_test, y_test_pred_final)\n",
    "plt.figure(figsize=(8, 6))\n",
    "sns.heatmap(cm, annot=True, fmt='d', cmap='Blues', \n",
    "            xticklabels=['No Churn', 'Churn'], \n",
    "            yticklabels=['No Churn', 'Churn'])\n",
    "plt.title(f'Confusion Matrix - {recommended_model}', fontweight='bold')\n",
    "plt.xlabel('Predicted')\n",
    "plt.ylabel('Actual')\n",
    "plt.show()\n",
    "\n",
    "# Print confusion matrix breakdown\n",
    "tn, fp, fn, tp = cm.ravel()\n",
    "print(f\"Confusion Matrix Breakdown:\")\n",
    "print(f\"True Negatives (Correctly predicted No Churn): {tn:,}\")\n",
    "print(f\"False Positives (Incorrectly predicted Churn): {fp:,}\")\n",
    "print(f\"False Negatives (Missed Churn): {fn:,}\")\n",
    "print(f\"True Positives (Correctly predicted Churn): {tp:,}\")"
   ]
  },
  {
   "cell_type": "code",
   "execution_count": 46,
   "metadata": {},
   "outputs": [
    {
     "data": {
      "image/png": "[encoded data removed]",
      "text/plain": [
       "<Figure size 800x600 with 1 Axes>"
      ]
     },
     "metadata": {},
     "output_type": "display_data"
    }
   ],
   "source": [
    "# ROC Curve\n",
    "fpr, tpr, thresholds = roc_curve(y_test, y_test_pred_proba_final)\n",
    "roc_auc = roc_auc_score(y_test, y_test_pred_proba_final)\n",
    "\n",
    "plt.figure(figsize=(8, 6))\n",
    "plt.plot(fpr, tpr, color='darkorange', lw=2, label=f'ROC curve (AUC = {roc_auc:.3f})')\n",
    "plt.plot([0, 1], [0, 1], color='navy', lw=2, linestyle='--', label='Random Classifier')\n",
    "plt.xlim([0.0, 1.0])\n",
    "plt.ylim([0.0, 1.05])\n",
    "plt.xlabel('False Positive Rate')\n",
    "plt.ylabel('True Positive Rate')\n",
    "plt.title(f'ROC Curve - {recommended_model}', fontweight='bold')\n",
    "plt.legend(loc=\"lower right\")\n",
    "plt.grid(True, alpha=0.3)\n",
    "plt.show()"
   ]
  },
  {
   "cell_type": "markdown",
   "metadata": {},
   "source": [
    "### 12. Save Models and Artifacts"
   ]
  },
  {
   "cell_type": "code",
   "execution_count": 47,
   "metadata": {},
   "outputs": [
    {
     "name": "stdout",
     "output_type": "stream",
     "text": [
      "✅ Best model saved to: artifacts/models/logistic_regression___smote_model.pkl\n",
      "✅ Label encoder saved to: artifacts/models/label_encoder.pkl\n",
      "✅ Train/test splits saved to artifacts/data/\n"
     ]
    }
   ],
   "source": [
    "# Ensure artifacts directory exists\n",
    "os.makedirs('artifacts/models', exist_ok=True)\n",
    "os.makedirs('artifacts/data', exist_ok=True)\n",
    "os.makedirs('artifacts/reports', exist_ok=True)\n",
    "\n",
    "# Save the best model (using relative paths)\n",
    "model_filename = f'artifacts/models/{recommended_model.lower().replace(\" \", \"_\").replace(\"+\", \"_\")}_model.pkl'\n",
    "joblib.dump(best_model, model_filename)\n",
    "print(f\"✅ Best model saved to: {model_filename}\")\n",
    "\n",
    "# Save label encoder\n",
    "joblib.dump(label_encoder, 'artifacts/models/label_encoder.pkl')\n",
    "print(f\"✅ Label encoder saved to: artifacts/models/label_encoder.pkl\")\n",
    "\n",
    "# Save train/test splits for next notebooks\n",
    "pd.DataFrame(X_train).to_csv('artifacts/data/X_train.csv', index=False)\n",
    "pd.DataFrame(X_test).to_csv('artifacts/data/X_test.csv', index=False)\n",
    "pd.DataFrame({'y_train': y_train}).to_csv('artifacts/data/y_train.csv', index=False)\n",
    "pd.DataFrame({'y_test': y_test}).to_csv('artifacts/data/y_test.csv', index=False)\n",
    "\n",
    "print(f\"✅ Train/test splits saved to artifacts/data/\")"
   ]
  },
  {
   "cell_type": "markdown",
   "metadata": {},
   "source": [
    "### 13. Model Development Summary"
   ]
  },
  {
   "cell_type": "code",
   "execution_count": 48,
   "metadata": {},
   "outputs": [
    {
     "name": "stdout",
     "output_type": "stream",
     "text": [
      "MODEL DEVELOPMENT SUMMARY\n",
      "==================================================\n",
      "\n",
      "📊 DATASET PREPARATION:\n",
      "   • Total samples: 7,043\n",
      "   • Total features: 30\n",
      "   • Numerical features: 11\n",
      "   • Categorical features: 19\n",
      "   • Class imbalance ratio: 2.8:1\n",
      "\n",
      "🏗️  MODELS DEVELOPED:\n",
      "   • Logistic Regression (baseline)\n",
      "   • Decision Tree\n",
      "   • Both models with SMOTE for imbalance handling\n",
      "\n",
      "📈 EVALUATION APPROACH:\n",
      "   • 5-Fold Stratified Cross-Validation\n",
      "   • Metrics: Accuracy, Precision, Recall, F1, ROC-AUC\n",
      "   • Focus on imbalanced data metrics (F1, ROC-AUC)\n",
      "\n",
      "🏆 BEST MODEL SELECTED:\n",
      "   • Model: Logistic Regression + SMOTE\n",
      "   • Test F1 Score: 0.6087\n",
      "   • Test ROC-AUC: 0.8410\n",
      "   • Test Precision: 0.5320\n",
      "   • Test Recall: 0.7112\n",
      "\n",
      "💾 ARTIFACTS SAVED:\n",
      "   • Best model: artifacts/models/logistic_regression___smote_model.pkl\n",
      "   • Label encoder: artifacts/models/label_encoder.pkl\n",
      "   • Train/test splits: artifacts/data/\n",
      "\n",
      "🔄 NEXT STEPS:\n",
      "   1. Ensemble methods (Random Forest, XGBoost, CatBoost)\n",
      "   2. Hyperparameter tuning\n",
      "   3. Advanced evaluation metrics\n",
      "   4. Business impact analysis\n",
      "\n",
      "⏰ Completed: 2025-08-23 22:38:31\n"
     ]
    }
   ],
   "source": [
    "print(\"MODEL DEVELOPMENT SUMMARY\")\n",
    "print(\"=\" * 50)\n",
    "print(f\"\\n📊 DATASET PREPARATION:\")\n",
    "print(f\"   • Total samples: {df.shape[0]:,}\")\n",
    "print(f\"   • Total features: {df.shape[1]-1}\")\n",
    "print(f\"   • Numerical features: {len(numerical_features)}\")\n",
    "print(f\"   • Categorical features: {len(categorical_features)}\")\n",
    "print(f\"   • Class imbalance ratio: {(df['Churn']=='No').sum() / (df['Churn']=='Yes').sum():.1f}:1\")\n",
    "\n",
    "print(f\"\\n🏗️  MODELS DEVELOPED:\")\n",
    "print(f\"   • Logistic Regression (baseline)\")\n",
    "print(f\"   • Decision Tree\")\n",
    "print(f\"   • Both models with SMOTE for imbalance handling\")\n",
    "\n",
    "print(f\"\\n📈 EVALUATION APPROACH:\")\n",
    "print(f\"   • {cv_folds}-Fold Stratified Cross-Validation\")\n",
    "print(f\"   • Metrics: Accuracy, Precision, Recall, F1, ROC-AUC\")\n",
    "print(f\"   • Focus on imbalanced data metrics (F1, ROC-AUC)\")\n",
    "\n",
    "print(f\"\\n🏆 BEST MODEL SELECTED:\")\n",
    "print(f\"   • Model: {recommended_model}\")\n",
    "print(f\"   • Test F1 Score: {final_metrics['f1']:.4f}\")\n",
    "print(f\"   • Test ROC-AUC: {final_metrics['roc_auc']:.4f}\")\n",
    "print(f\"   • Test Precision: {final_metrics['precision']:.4f}\")\n",
    "print(f\"   • Test Recall: {final_metrics['recall']:.4f}\")\n",
    "\n",
    "print(f\"\\n💾 ARTIFACTS SAVED:\")\n",
    "print(f\"   • Best model: {model_filename}\")\n",
    "print(f\"   • Label encoder: artifacts/models/label_encoder.pkl\")\n",
    "print(f\"   • Train/test splits: artifacts/data/\")\n",
    "\n",
    "print(f\"\\n🔄 NEXT STEPS:\")\n",
    "print(f\"   1. Ensemble methods (Random Forest, XGBoost, CatBoost)\")\n",
    "print(f\"   2. Hyperparameter tuning\")\n",
    "print(f\"   3. Advanced evaluation metrics\")\n",
    "print(f\"   4. Business impact analysis\")\n",
    "\n",
    "timestamp = datetime.now().strftime(\"%Y-%m-%d %H:%M:%S\")\n",
    "print(f\"\\n⏰ Completed: {timestamp}\")"
   ]
  }
 ],
 "metadata": {
  "kernelspec": {
   "display_name": "ZuuCrew1",
   "language": "python",
   "name": "python3"
  },
  "language_info": {
   "codemirror_mode": {
    "name": "ipython",
    "version": 3
   },
   "file_extension": ".py",
   "mimetype": "text/x-python",
   "name": "python",
   "nbconvert_exporter": "python",
   "pygments_lexer": "ipython3",
   "version": "3.11.13"
  }
 },
 "nbformat": 4,
 "nbformat_minor": 4
}
